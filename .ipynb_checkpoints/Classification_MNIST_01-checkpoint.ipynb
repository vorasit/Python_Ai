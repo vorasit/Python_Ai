{
  "nbformat": 4,
  "nbformat_minor": 0,
  "metadata": {
    "kernelspec": {
      "display_name": "Python 3",
      "language": "python",
      "name": "python3"
    },
    "language_info": {
      "codemirror_mode": {
        "name": "ipython",
        "version": 3
      },
      "file_extension": ".py",
      "mimetype": "text/x-python",
      "name": "python",
      "nbconvert_exporter": "python",
      "pygments_lexer": "ipython3",
      "version": "3.8.3"
    },
    "colab": {
      "provenance": []
    }
  },
  "cells": [
    {
      "cell_type": "markdown",
      "metadata": {
        "id": "gmKs6ly_a9HR"
      },
      "source": [
        "---\n",
        "# ทดลองทำ Classification กับชุดข้อมูล MNIST\n",
        "\n",
        "---"
      ]
    },
    {
      "cell_type": "markdown",
      "metadata": {
        "id": "0yPPbRvZa9Ha"
      },
      "source": [
        "จาก Library sklearn (หรือ scikit learn) เราจะเรียกใช้ datasets\n",
        "\n",
        "*   นำเข้าข้อมูล (Load Dataset) : ในที่นี้ใช้ข้อมูล \"Load_digits\" ที่มีอยู่ใน sklearn"
      ]
    },
    {
      "cell_type": "code",
      "metadata": {
        "id": "ifdl3Veha9Hb"
      },
      "source": [
        "from sklearn import datasets\n",
        "\n",
        "digits = datasets.load_digits()"
      ],
      "execution_count": 1,
      "outputs": []
    },
    {
      "cell_type": "markdown",
      "metadata": {
        "id": "awPBgIWXa9Hc"
      },
      "source": [
        "ทำการเก็บข้อมูล Features ต่าง ๆ ไว้ที่ตัวแปร X .. และ เก็บข้อมูล Target ไว้ที่ตัวแปร y"
      ]
    },
    {
      "cell_type": "code",
      "metadata": {
        "colab": {
          "base_uri": "https://localhost:8080/"
        },
        "id": "JqJFUAFia9Hc",
        "outputId": "76e0c494-9654-4424-caec-477fb17f6e0c"
      },
      "source": [
        "X = digits.data\n",
        "y = digits.target\n",
        "\n",
        "# print (digits.feature_names)\n",
        "print (digits.target_names)"
      ],
      "execution_count": 2,
      "outputs": [
        {
          "output_type": "stream",
          "name": "stdout",
          "text": [
            "[0 1 2 3 4 5 6 7 8 9]\n"
          ]
        }
      ]
    },
    {
      "cell_type": "markdown",
      "metadata": {
        "id": "Svl5-YIta9Hd"
      },
      "source": [
        "แสดงตัวอย่างรูปภาพ ที่เก็บในตัวแปร X[0]"
      ]
    },
    {
      "cell_type": "code",
      "metadata": {
        "colab": {
          "base_uri": "https://localhost:8080/"
        },
        "id": "xjsDClWma9Hd",
        "outputId": "78188337-0072-4bd8-acad-f94de150a385"
      },
      "source": [
        "print (X[0])"
      ],
      "execution_count": 3,
      "outputs": [
        {
          "output_type": "stream",
          "name": "stdout",
          "text": [
            "[ 0.  0.  5. 13.  9.  1.  0.  0.  0.  0. 13. 15. 10. 15.  5.  0.  0.  3.\n",
            " 15.  2.  0. 11.  8.  0.  0.  4. 12.  0.  0.  8.  8.  0.  0.  5.  8.  0.\n",
            "  0.  9.  8.  0.  0.  4. 11.  0.  1. 12.  7.  0.  0.  2. 14.  5. 10. 12.\n",
            "  0.  0.  0.  0.  6. 13. 10.  0.  0.  0.]\n"
          ]
        }
      ]
    },
    {
      "cell_type": "code",
      "metadata": {
        "colab": {
          "base_uri": "https://localhost:8080/",
          "height": 265
        },
        "id": "2Y_M_XPKa9He",
        "outputId": "e5a7ef21-24c8-4dfa-eace-637b550d8fec"
      },
      "source": [
        "import matplotlib.pyplot as plt\n",
        "import numpy as np\n",
        "\n",
        "plt.imshow(np.reshape(X[0], (8,8)), cmap=plt.cm.gray)\n",
        "plt.show()"
      ],
      "execution_count": 4,
      "outputs": [
        {
          "output_type": "display_data",
          "data": {
            "text/plain": [
              "<Figure size 432x288 with 1 Axes>"
            ],
            "image/png": "[encoded data removed]"
          },
          "metadata": {
            "needs_background": "light"
          }
        }
      ]
    },
    {
      "cell_type": "markdown",
      "metadata": {
        "id": "1e-WEdIja9He"
      },
      "source": [
        "แสดงผลข้อมูล ในหมวดหมู่ (ตัวเลข) ที่ต่าง ๆ กัน"
      ]
    },
    {
      "cell_type": "code",
      "metadata": {
        "id": "d9631Hgqa9Hf"
      },
      "source": [
        "import matplotlib.pyplot as plt\n",
        "import numpy as np"
      ],
      "execution_count": 5,
      "outputs": []
    },
    {
      "cell_type": "code",
      "metadata": {
        "colab": {
          "base_uri": "https://localhost:8080/",
          "height": 158
        },
        "id": "VeZ_59aqa9Hf",
        "outputId": "ab0a334e-f655-4aa0-9c90-45dd66442d15"
      },
      "source": [
        "plt.figure(figsize=(18,8))\n",
        "for index, (image, label) in enumerate(zip(X[0:10], y[0:10])):\n",
        "    plt.subplot(1, 10, index + 1)\n",
        "    plt.imshow(np.reshape(image, (8,8)), cmap=plt.cm.gray)\n",
        "    plt.title('%i\\n' % label, fontsize = 18)"
      ],
      "execution_count": 6,
      "outputs": [
        {
          "output_type": "display_data",
          "data": {
            "text/plain": [
              "<Figure size 1296x576 with 10 Axes>"
            ],
            "image/png": "[encoded data removed]"
          },
          "metadata": {
            "needs_background": "light"
          }
        }
      ]
    },
    {
      "cell_type": "code",
      "metadata": {
        "colab": {
          "base_uri": "https://localhost:8080/",
          "height": 158
        },
        "id": "nXwyv8CNa9Hf",
        "outputId": "7e35475c-38b9-4b00-98f1-1e37b43ac0f6"
      },
      "source": [
        "plt.figure(figsize=(18,8))\n",
        "for index, (image, label) in enumerate(zip(X[0:10], y[0:10])):\n",
        "    plt.subplot(1, 10, index + 1)\n",
        "    plt.imshow(np.reshape(image, (8,8)), cmap=plt.cm.viridis)\n",
        "    plt.title('%i\\n' % label, fontsize = 18)\n"
      ],
      "execution_count": 7,
      "outputs": [
        {
          "output_type": "display_data",
          "data": {
            "text/plain": [
              "<Figure size 1296x576 with 10 Axes>"
            ],
            "image/png": "[encoded data removed]"
          },
          "metadata": {
            "needs_background": "light"
          }
        }
      ]
    },
    {
      "cell_type": "markdown",
      "metadata": {
        "id": "5l11mFTla9Hg"
      },
      "source": [
        "---\n",
        "เริ่มขั้นตอนการสร้าง (Train) / ทดสอบ (Test) Model\n",
        "\n",
        "\n",
        "---"
      ]
    },
    {
      "cell_type": "markdown",
      "metadata": {
        "id": "orG7aURja9Hg"
      },
      "source": [
        "จาก Library sklearn\n",
        "\n",
        "* เรียกใช้งาน Logistic Regression (Algorithm สำหรับการ Classification) ซึ่งอยู่ใน Linear Model\n",
        "* เรียกใช้งาน train / test split (การแบ่งข้อมูล train / test) ซึ่งอยู่ใน model selection"
      ]
    },
    {
      "cell_type": "code",
      "metadata": {
        "id": "chlOfEU_a9Hh"
      },
      "source": [
        "from sklearn.linear_model import LogisticRegression\n",
        "from sklearn.model_selection import train_test_split"
      ],
      "execution_count": 8,
      "outputs": []
    },
    {
      "cell_type": "markdown",
      "metadata": {
        "id": "Sv9Hf3iba9Hh"
      },
      "source": [
        "* ทำการแบ่งข้อมูล train (ใช้สร้าง Model) / test (ใช้ทดสอบ Model)\n",
        "* สามารถกำหนด test size ได้ (ค่า test_size = 0.25 หมายถึง 25% เป็นข้อมูล test)"
      ]
    },
    {
      "cell_type": "code",
      "metadata": {
        "id": "ZUge8ofda9Hh"
      },
      "source": [
        "X_train, X_test, y_train, y_test = train_test_split(X, y, test_size=0.25, random_state=0)"
      ],
      "execution_count": 9,
      "outputs": []
    },
    {
      "cell_type": "markdown",
      "metadata": {
        "id": "8v4ramn_a9Hi"
      },
      "source": [
        "* เพื่อดูขนาดของข้อมูล train และ ข้อมูล test"
      ]
    },
    {
      "cell_type": "code",
      "metadata": {
        "colab": {
          "base_uri": "https://localhost:8080/"
        },
        "id": "UaBRSn1Ka9Hj",
        "outputId": "9382e9bd-5f25-4693-d580-0bc7ed81257b"
      },
      "source": [
        "print (X_train.shape)\n",
        "print (X_test.shape)"
      ],
      "execution_count": 10,
      "outputs": [
        {
          "output_type": "stream",
          "name": "stdout",
          "text": [
            "(1347, 64)\n",
            "(450, 64)\n"
          ]
        }
      ]
    },
    {
      "cell_type": "markdown",
      "metadata": {
        "id": "Qk98Ydora9Hk"
      },
      "source": [
        "# กำหนด Logistic Regression Model ในชื่อตัวแปร \"LogReg\" \n",
        "* ทำการ Train model ด้วยข้อมูล X_train, y_train"
      ]
    },
    {
      "cell_type": "code",
      "metadata": {
        "id": "Ujp6m62ya9Hk"
      },
      "source": [
        "LogReg = LogisticRegression()"
      ],
      "execution_count": 11,
      "outputs": []
    },
    {
      "cell_type": "code",
      "metadata": {
        "colab": {
          "base_uri": "https://localhost:8080/"
        },
        "id": "RRH9eQwQa9Hk",
        "outputId": "185802ce-d228-4308-cbae-6104afc4fbf2"
      },
      "source": [
        "LogReg.fit(X_train, y_train)"
      ],
      "execution_count": 12,
      "outputs": [
        {
          "output_type": "stream",
          "name": "stderr",
          "text": [
            "/usr/local/lib/python3.8/dist-packages/sklearn/linear_model/_logistic.py:814: ConvergenceWarning: lbfgs failed to converge (status=1):\n",
            "STOP: TOTAL NO. of ITERATIONS REACHED LIMIT.\n",
            "\n",
            "Increase the number of iterations (max_iter) or scale the data as shown in:\n",
            "    https://scikit-learn.org/stable/modules/preprocessing.html\n",
            "Please also refer to the documentation for alternative solver options:\n",
            "    https://scikit-learn.org/stable/modules/linear_model.html#logistic-regression\n",
            "  n_iter_i = _check_optimize_result(\n"
          ]
        },
        {
          "output_type": "execute_result",
          "data": {
            "text/plain": [
              "LogisticRegression()"
            ]
          },
          "metadata": {},
          "execution_count": 12
        }
      ]
    },
    {
      "cell_type": "markdown",
      "metadata": {
        "id": "g7rWps9Fa9Hl"
      },
      "source": [
        "# วัดประสิทธิภาพของ Model โดยใช้ข้อมูล X_test, y_test .."
      ]
    },
    {
      "cell_type": "markdown",
      "metadata": {
        "id": "TFzjgk6ma9Hl"
      },
      "source": [
        "* พิจารณาจากค่า Accuracy "
      ]
    },
    {
      "cell_type": "code",
      "metadata": {
        "id": "AZnOfDjKa9Hl"
      },
      "source": [
        "y_pred = LogReg.predict(X_test) "
      ],
      "execution_count": 13,
      "outputs": []
    },
    {
      "cell_type": "code",
      "metadata": {
        "colab": {
          "base_uri": "https://localhost:8080/"
        },
        "id": "ALF1FTONa9Hl",
        "outputId": "8b191a43-8bd1-411f-a0fd-0fd07917c708"
      },
      "source": [
        "score = LogReg.score(X_test, y_test)\n",
        "score = round(score*100, 2)\n",
        "print('Accuracy =', score)"
      ],
      "execution_count": 14,
      "outputs": [
        {
          "output_type": "stream",
          "name": "stdout",
          "text": [
            "Accuracy = 95.11\n"
          ]
        }
      ]
    },
    {
      "cell_type": "markdown",
      "metadata": {
        "id": "fn7htYKIa9Hm"
      },
      "source": [
        "* พิจารณาจากค่า Confusion Matrix"
      ]
    },
    {
      "cell_type": "code",
      "metadata": {
        "colab": {
          "base_uri": "https://localhost:8080/"
        },
        "id": "UD4OEEoEa9Hm",
        "outputId": "d354360d-7315-49d8-df22-f160a289a8f5"
      },
      "source": [
        "from sklearn.metrics import confusion_matrix\n",
        "\n",
        "confusion_matrix(y_test, y_pred)"
      ],
      "execution_count": 15,
      "outputs": [
        {
          "output_type": "execute_result",
          "data": {
            "text/plain": [
              "array([[37,  0,  0,  0,  0,  0,  0,  0,  0,  0],\n",
              "       [ 0, 40,  0,  0,  0,  0,  0,  0,  2,  1],\n",
              "       [ 0,  1, 40,  3,  0,  0,  0,  0,  0,  0],\n",
              "       [ 0,  0,  0, 43,  0,  0,  0,  0,  1,  1],\n",
              "       [ 0,  0,  0,  0, 37,  0,  0,  1,  0,  0],\n",
              "       [ 0,  0,  0,  0,  0, 46,  0,  0,  0,  2],\n",
              "       [ 0,  1,  0,  0,  0,  0, 51,  0,  0,  0],\n",
              "       [ 0,  0,  0,  1,  1,  0,  0, 46,  0,  0],\n",
              "       [ 0,  3,  1,  0,  0,  0,  0,  0, 43,  1],\n",
              "       [ 0,  0,  0,  0,  0,  1,  0,  0,  1, 45]])"
            ]
          },
          "metadata": {},
          "execution_count": 15
        }
      ]
    },
    {
      "cell_type": "code",
      "metadata": {
        "id": "Ly1B9-Yua9Hm"
      },
      "source": [
        "import seaborn as sns"
      ],
      "execution_count": 16,
      "outputs": []
    },
    {
      "cell_type": "code",
      "metadata": {
        "id": "YhopL2yka9Hm"
      },
      "source": [
        "cm = confusion_matrix(y_test, y_pred)"
      ],
      "execution_count": 17,
      "outputs": []
    },
    {
      "cell_type": "code",
      "metadata": {
        "colab": {
          "base_uri": "https://localhost:8080/",
          "height": 567
        },
        "id": "joCsfzuka9Hn",
        "outputId": "38c0c019-0b03-437b-d426-db35cc886b24"
      },
      "source": [
        "plt.figure(figsize=(9,9))\n",
        "sns.heatmap(cm, annot=True, fmt=\".0f\", linewidths=1, cmap = 'Blues_r');\n",
        "plt.ylabel('Actual');\n",
        "plt.xlabel('Predict');\n",
        "figure_title = 'Accuracy Score = {0}'.format(score)\n",
        "plt.title(figure_title, size = 12);"
      ],
      "execution_count": 18,
      "outputs": [
        {
          "output_type": "display_data",
          "data": {
            "text/plain": [
              "<Figure size 648x648 with 2 Axes>"
            ],
            "image/png": "[encoded data removed]"
          },
          "metadata": {
            "needs_background": "light"
          }
        }
      ]
    },
    {
      "cell_type": "markdown",
      "metadata": {
        "id": "Ko3izteba9Hn"
      },
      "source": [
        "---\n",
        "# จบแล้ว\n",
        "---"
      ]
    },
    {
      "cell_type": "markdown",
      "metadata": {
        "id": "I0bwanC2lDl_"
      },
      "source": [
        "---\n",
        "# Challenge 02\n",
        "---"
      ]
    },
    {
      "cell_type": "markdown",
      "metadata": {
        "id": "3pZ2C5DQa9Hn"
      },
      "source": [
        " # กำหนด SVM Model ในชื่อตัวแปร \"SVM_Classifier\" \n",
        "* เรียกใช้ SVM จาก Sklearn\n",
        "* ใช้ค่า Gamma = 0.001\n",
        "* ทำการ Train model ด้วยข้อมูล X_train, y_train"
      ]
    },
    {
      "cell_type": "code",
      "metadata": {
        "id": "ObZtu4hOa9Ho"
      },
      "source": [
        "from sklearn import svm\n",
        "from sklearn.model_selection import train_test_split\n",
        "\n",
        "classifier = svm.SVC(gamma=0.001)"
      ],
      "execution_count": 25,
      "outputs": []
    },
    {
      "cell_type": "code",
      "source": [
        "from sklearn import datasets\n",
        "\n",
        "digits = datasets.load_digits()\n",
        "X = digits.data\n",
        "y = digits.target\n",
        "\n",
        "# print (digits.feature_names)\n",
        "print (digits.target_names)"
      ],
      "metadata": {
        "colab": {
          "base_uri": "https://localhost:8080/"
        },
        "id": "rQ9vaYFtUIz0",
        "outputId": "f9d29e09-c2ab-4c48-ff62-a1c362a70b8f"
      },
      "execution_count": 26,
      "outputs": [
        {
          "output_type": "stream",
          "name": "stdout",
          "text": [
            "[0 1 2 3 4 5 6 7 8 9]\n"
          ]
        }
      ]
    },
    {
      "cell_type": "code",
      "source": [
        "X_train, X_test, y_train, y_test = train_test_split(X, y, test_size=0.25, random_state=0)"
      ],
      "metadata": {
        "id": "O8Y3iceFTbVH"
      },
      "execution_count": 21,
      "outputs": []
    },
    {
      "cell_type": "code",
      "metadata": {
        "id": "ZdHb1x5Ha9Hr",
        "colab": {
          "base_uri": "https://localhost:8080/"
        },
        "outputId": "dc1e5f42-ce6d-4dc5-db34-ab5cd3af45e7"
      },
      "source": [
        "SVM_Classifier = svm.SVC(gamma=0.001)\n",
        "SVM_Classifier.fit(X_train, y_train)"
      ],
      "execution_count": 28,
      "outputs": [
        {
          "output_type": "execute_result",
          "data": {
            "text/plain": [
              "SVC(gamma=0.001)"
            ]
          },
          "metadata": {},
          "execution_count": 28
        }
      ]
    },
    {
      "cell_type": "code",
      "source": [
        "from sklearn.metrics import confusion_matrix"
      ],
      "metadata": {
        "id": "kObd_dcgcP6M"
      },
      "execution_count": 48,
      "outputs": []
    },
    {
      "cell_type": "code",
      "metadata": {
        "colab": {
          "base_uri": "https://localhost:8080/"
        },
        "id": "bwF7Oot1c6QO",
        "outputId": "7f9976b5-18ba-4ef4-83ae-96bfa9c25d0b"
      },
      "source": [
        "\n",
        "y_pred = SVM_Classifier.predict(X_test) \n",
        "score = SVM_Classifier.score(X_test, y_test)\n",
        "score = round(score*100, 2)\n",
        "print('Accuracy =', score)\n",
        "confusion_matrix(y_test, y_pred)"
      ],
      "execution_count": 49,
      "outputs": [
        {
          "output_type": "stream",
          "name": "stdout",
          "text": [
            "Accuracy = 99.81\n"
          ]
        },
        {
          "output_type": "execute_result",
          "data": {
            "text/plain": [
              "array([[53,  0,  0,  0,  0,  0,  0,  0,  0,  0],\n",
              "       [ 0, 50,  0,  0,  0,  0,  0,  0,  0,  0],\n",
              "       [ 0,  0, 47,  0,  0,  0,  0,  0,  0,  0],\n",
              "       [ 0,  0,  0, 54,  0,  0,  0,  0,  0,  0],\n",
              "       [ 0,  0,  0,  0, 60,  0,  0,  0,  0,  0],\n",
              "       [ 0,  0,  0,  0,  0, 66,  0,  0,  0,  0],\n",
              "       [ 0,  0,  0,  0,  0,  0, 53,  0,  0,  0],\n",
              "       [ 0,  0,  0,  0,  0,  0,  0, 55,  0,  0],\n",
              "       [ 0,  0,  0,  0,  0,  0,  0,  0, 43,  0],\n",
              "       [ 0,  0,  0,  1,  0,  0,  0,  0,  0, 58]])"
            ]
          },
          "metadata": {},
          "execution_count": 49
        }
      ]
    },
    {
      "cell_type": "markdown",
      "source": [
        "# **แผนผัง**"
      ],
      "metadata": {
        "id": "icdPlWLlcQ2X"
      }
    },
    {
      "cell_type": "code",
      "source": [
        "import matplotlib.pyplot as plt"
      ],
      "metadata": {
        "id": "1wb3wwk6UaY5"
      },
      "execution_count": 29,
      "outputs": []
    },
    {
      "cell_type": "code",
      "source": [
        "plt.scatter(X[:, 0], X[:, 1], c=y, cmap=plt.cm.viridis)\n",
        "plt.ylabel('Actual');\n",
        "plt.xlabel('Predict');\n",
        "plt.show()"
      ],
      "metadata": {
        "colab": {
          "base_uri": "https://localhost:8080/",
          "height": 279
        },
        "id": "K6c8YovOVpVY",
        "outputId": "296aac49-4928-4095-deca-822ac865dc4e"
      },
      "execution_count": 32,
      "outputs": [
        {
          "output_type": "display_data",
          "data": {
            "text/plain": [
              "<Figure size 432x288 with 1 Axes>"
            ],
            "image/png": "[encoded data removed]"
          },
          "metadata": {
            "needs_background": "light"
          }
        }
      ]
    },
    {
      "cell_type": "code",
      "source": [
        "from sklearn.svm import SVC\n",
        "\n",
        "# Split the data into training and test sets\n",
        "X_train, X_test, y_train, y_test = train_test_split(X, y, test_size=0.3, random_state=42)\n",
        "\n",
        "# Train the SVM Classifier\n",
        "svm = SVC(gamma=0.001)\n",
        "svm.fit(X_train, y_train)\n",
        "\n",
        "\n",
        "plt.plot(X[:, 0], X[:, 1],  'b-*', linewidth=2, markersize=12)\n",
        "plt.ylabel('Actual');\n",
        "plt.xlabel('Predict');\n",
        "plt.show()"
      ],
      "metadata": {
        "colab": {
          "base_uri": "https://localhost:8080/",
          "height": 279
        },
        "id": "AraqKaXpY_8I",
        "outputId": "b81aa24f-ed92-4f6e-b16f-b423b7f52a20"
      },
      "execution_count": 45,
      "outputs": [
        {
          "output_type": "display_data",
          "data": {
            "text/plain": [
              "<Figure size 432x288 with 1 Axes>"
            ],
            "image/png": "[encoded data removed]"
          },
          "metadata": {
            "needs_background": "light"
          }
        }
      ]
    },
    {
      "cell_type": "code",
      "source": [
        "plt.bar(X[:, 0], X[:, 1])\n",
        "plt.show()"
      ],
      "metadata": {
        "colab": {
          "base_uri": "https://localhost:8080/",
          "height": 265
        },
        "id": "r-WNvVOOjdHT",
        "outputId": "c92c1ea4-2140-4fa1-f908-89dc8fa4e9bc"
      },
      "execution_count": 50,
      "outputs": [
        {
          "output_type": "display_data",
          "data": {
            "text/plain": [
              "<Figure size 432x288 with 1 Axes>"
            ],
            "image/png": "[encoded data removed]"
          },
          "metadata": {
            "needs_background": "light"
          }
        }
      ]
    },
    {
      "cell_type": "code",
      "source": [
        "# Count the number of correct predictions\n",
        "correct = np.sum(y_pred == y_test)\n",
        "\n",
        "# Calculate the accuracy of the model\n",
        "accuracy = correct / len(y_test)\n",
        "\n",
        "\n",
        "# Plot the distribution of predictions as a pie chart\n",
        "labels = ['Correct', 'Incorrect']\n",
        "sizes = [correct, len(y_test) - correct]\n",
        "plt.pie(sizes, labels=labels, autopct='%1.1f%%', shadow=True, startangle=140)\n",
        "plt.axis('equal')\n",
        "plt.show()"
      ],
      "metadata": {
        "colab": {
          "base_uri": "https://localhost:8080/",
          "height": 248
        },
        "id": "xcA81JIij2jS",
        "outputId": "b5e26574-3b16-469e-a67e-24185b7b5df6"
      },
      "execution_count": 54,
      "outputs": [
        {
          "output_type": "display_data",
          "data": {
            "text/plain": [
              "<Figure size 432x288 with 1 Axes>"
            ],
            "image/png": "[encoded data removed]"
          },
          "metadata": {}
        }
      ]
    },
    {
      "cell_type": "code",
      "source": [
        "# เรียกใช้ Libraries Seaborn\n",
        "import seaborn as sns\n",
        "\n",
        "# Make predictions on the test data\n",
        "y_pred = svm.predict(X_test)\n",
        "\n",
        "# Count the number of correct predictions\n",
        "correct = np.sum(y_pred == y_test)\n",
        "\n",
        "# Calculate the accuracy of the model\n",
        "accuracy = correct / len(y_test)\n",
        "\n",
        "# Plot the distribution of predictions as a box plot\n",
        "data = [y_pred, y_test]\n",
        "plt.boxplot(data)\n",
        "plt.show()"
      ],
      "metadata": {
        "colab": {
          "base_uri": "https://localhost:8080/",
          "height": 265
        },
        "id": "YPqyNlS4mPai",
        "outputId": "8e2f4327-e0c3-4922-f9cc-f78701f93878"
      },
      "execution_count": 55,
      "outputs": [
        {
          "output_type": "display_data",
          "data": {
            "text/plain": [
              "<Figure size 432x288 with 1 Axes>"
            ],
            "image/png": "[encoded data removed]"
          },
          "metadata": {
            "needs_background": "light"
          }
        }
      ]
    },
    {
      "cell_type": "code",
      "source": [
        "# Make predictions on the test data\n",
        "y_pred = svm.predict(X_test)\n",
        "\n",
        "# Count the number of correct predictions\n",
        "correct = np.sum(y_pred == y_test)\n",
        "\n",
        "# Calculate the accuracy of the model\n",
        "accuracy = correct / len(y_test)\n",
        "\n",
        "# Plot the distribution of predictions as a violin plot\n",
        "data = [y_pred, y_test]\n",
        "sns.violinplot(data=data)\n",
        "plt.show()"
      ],
      "metadata": {
        "colab": {
          "base_uri": "https://localhost:8080/",
          "height": 265
        },
        "id": "2AiJYYSXm9ui",
        "outputId": "1608839b-cce6-4ca0-cbf6-d146ea5a7d57"
      },
      "execution_count": 56,
      "outputs": [
        {
          "output_type": "display_data",
          "data": {
            "text/plain": [
              "<Figure size 432x288 with 1 Axes>"
            ],
            "image/png": "[encoded data removed]"
          },
          "metadata": {
            "needs_background": "light"
          }
        }
      ]
    }
  ]
}