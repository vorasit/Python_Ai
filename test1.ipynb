{
 "cells": [
  {
   "cell_type": "code",
   "execution_count": null,
   "id": "c8cf17cf-6f97-4c63-ac17-064367cef6e5",
   "metadata": {},
   "outputs": [],
   "source": [
    "print(\"Hello World\")"
   ]
  },
  {
   "cell_type": "code",
   "execution_count": null,
   "id": "2dfd83b7-79ab-4c92-9f3c-08e13c8d662e",
   "metadata": {},
   "outputs": [],
   "source": [
    "d = {'key':10, 'key2':'seconditem'}"
   ]
  },
  {
   "cell_type": "code",
   "execution_count": null,
   "id": "4b5c55eb-f6ff-4a6a-a2b6-05db11e8570e",
   "metadata": {},
   "outputs": [],
   "source": [
    "d['key']"
   ]
  },
  {
   "cell_type": "code",
   "execution_count": null,
   "id": "8f7ae989-a42d-4de7-902e-7dee8667ca9a",
   "metadata": {},
   "outputs": [],
   "source": [
    "True"
   ]
  },
  {
   "cell_type": "markdown",
   "id": "ad20bbf2-bd45-42d8-82ac-756b30de45ae",
   "metadata": {},
   "source": [
    "tuple"
   ]
  },
  {
   "cell_type": "code",
   "execution_count": null,
   "id": "d68b6058-34f1-4716-b012-11ebd277a150",
   "metadata": {},
   "outputs": [],
   "source": [
    "t = (1,2,3) # imutable"
   ]
  },
  {
   "cell_type": "code",
   "execution_count": null,
   "id": "38bacadd-ed22-4d40-a4e3-7a098638c3fe",
   "metadata": {},
   "outputs": [],
   "source": [
    "t[0]"
   ]
  },
  {
   "cell_type": "markdown",
   "id": "411b572c-4684-41b3-8596-32029d4ae954",
   "metadata": {},
   "source": [
    "set"
   ]
  },
  {
   "cell_type": "code",
   "execution_count": null,
   "id": "fc451e6e-d837-44d6-9857-5d4d75128711",
   "metadata": {},
   "outputs": [],
   "source": [
    "{1,1,1,1,2,2,3,3,3}"
   ]
  },
  {
   "cell_type": "code",
   "execution_count": null,
   "id": "a97fc669-3b34-4735-a283-320f3b8ba151",
   "metadata": {},
   "outputs": [],
   "source": [
    "#list to set\n",
    "set([1,1,1,1,2,2,3,3,3])"
   ]
  },
  {
   "cell_type": "code",
   "execution_count": null,
   "id": "b2972417-5f5d-47c4-b940-a8cacf8d3fe0",
   "metadata": {},
   "outputs": [],
   "source": [
    "import math #built in function"
   ]
  },
  {
   "cell_type": "code",
   "execution_count": null,
   "id": "b421fa06-aeea-4379-8c84-90b9b45a75fd",
   "metadata": {},
   "outputs": [],
   "source": [
    "#square root\n",
    "math.sqrt(2)"
   ]
  },
  {
   "cell_type": "code",
   "execution_count": null,
   "id": "b0f6d071-c6ff-49a6-a827-51d1214d2311",
   "metadata": {},
   "outputs": [],
   "source": [
    "help(math)"
   ]
  },
  {
   "cell_type": "code",
   "execution_count": null,
   "id": "da70188d-ec78-45e9-8d6b-224748858435",
   "metadata": {},
   "outputs": [],
   "source": [
    "a = math.pi"
   ]
  },
  {
   "cell_type": "code",
   "execution_count": null,
   "id": "6645cedb-1155-4a44-91b1-dd1b14c5f322",
   "metadata": {},
   "outputs": [],
   "source": [
    "a"
   ]
  },
  {
   "cell_type": "code",
   "execution_count": null,
   "id": "5944ad25-51a6-4556-81fa-7a721ec860ed",
   "metadata": {},
   "outputs": [],
   "source": [
    "1<2"
   ]
  },
  {
   "cell_type": "code",
   "execution_count": null,
   "id": "69128340-df74-49bb-afdb-f85687fb2900",
   "metadata": {},
   "outputs": [],
   "source": [
    "1>2"
   ]
  },
  {
   "cell_type": "markdown",
   "id": "e07d8c1e-e27c-4eee-87ac-8fced105d9cd",
   "metadata": {},
   "source": [
    "___"
   ]
  },
  {
   "cell_type": "code",
   "execution_count": null,
   "id": "cb5a94e4-25cd-4a3a-814f-e39aa60a8eda",
   "metadata": {},
   "outputs": [],
   "source": [
    "if True:\n",
    "    print(\"hello\")"
   ]
  },
  {
   "cell_type": "code",
   "execution_count": null,
   "id": "6ee58663-2f62-44ac-bec1-b2adac977ac2",
   "metadata": {},
   "outputs": [],
   "source": [
    "if False:\n",
    "    print(\"hello\")"
   ]
  },
  {
   "cell_type": "code",
   "execution_count": null,
   "id": "4d44e273-f8c2-487b-92ff-fed641a438cd",
   "metadata": {},
   "outputs": [],
   "source": [
    "if 1==1:\n",
    "    print(\"hello\")"
   ]
  },
  {
   "cell_type": "code",
   "execution_count": null,
   "id": "7f08724a-1a3d-4ca4-a828-56eb24fed791",
   "metadata": {},
   "outputs": [],
   "source": [
    "if (1==2):\n",
    "    print(\"hello\")\n",
    "else:\n",
    "    print(\"if statement was not true\")"
   ]
  },
  {
   "cell_type": "code",
   "execution_count": null,
   "id": "9ac28d57-9945-47fa-b8e1-0b335d47bb8e",
   "metadata": {},
   "outputs": [],
   "source": [
    "if 1==2:\n",
    "    print(\"hello\")\n",
    "elif 2==2 :\n",
    "    print(\"two\")\n",
    "else:\n",
    "    print(\"if statement was not true\")"
   ]
  },
  {
   "cell_type": "markdown",
   "id": "75d1753e-6783-46e5-9a3e-54dd5d14cf78",
   "metadata": {},
   "source": [
    "for loop"
   ]
  },
  {
   "cell_type": "code",
   "execution_count": null,
   "id": "fb10c714-036a-40fb-89b6-1ea7f72778c6",
   "metadata": {},
   "outputs": [],
   "source": [
    "seq = [1,2,3,4,5]"
   ]
  },
  {
   "cell_type": "code",
   "execution_count": null,
   "id": "9765fcf2-310f-42c1-a87d-58f884a6e7fb",
   "metadata": {},
   "outputs": [],
   "source": [
    "for item in seq:\n",
    "    print(item)"
   ]
  },
  {
   "cell_type": "code",
   "execution_count": null,
   "id": "b6918ce3-d8bb-494d-aa75-58ef933fbf19",
   "metadata": {},
   "outputs": [],
   "source": [
    "for item in seq:\n",
    "    print(item**2)"
   ]
  },
  {
   "cell_type": "code",
   "execution_count": 33,
   "id": "c79143b4-d462-4f2b-adbb-2149bcfe0b99",
   "metadata": {},
   "outputs": [
    {
     "name": "stdout",
     "output_type": "stream",
     "text": [
      "i is currently 1\n",
      "i is currently 2\n",
      "i is currently 3\n",
      "i is currently 4\n"
     ]
    }
   ],
   "source": [
    "i = 1\n",
    "while i<5:\n",
    "    print('i is currently {}'.format(i))\n",
    "    i=i+1"
   ]
  },
  {
   "cell_type": "markdown",
   "id": "82c710c4-a8f0-45b4-b3f7-18e0d439b83a",
   "metadata": {},
   "source": [
    "range()"
   ]
  },
  {
   "cell_type": "code",
   "execution_count": 34,
   "id": "7ede8a1c-7475-460a-ba59-c2328017a5fd",
   "metadata": {},
   "outputs": [
    {
     "data": {
      "text/plain": [
       "range(0, 5)"
      ]
     },
     "execution_count": 34,
     "metadata": {},
     "output_type": "execute_result"
    }
   ],
   "source": [
    "range(0,5)"
   ]
  },
  {
   "cell_type": "code",
   "execution_count": 35,
   "id": "a47bf87f-dda7-454d-bfb8-431ac1ff402a",
   "metadata": {},
   "outputs": [
    {
     "name": "stdout",
     "output_type": "stream",
     "text": [
      "0\n",
      "1\n",
      "2\n",
      "3\n",
      "4\n"
     ]
    }
   ],
   "source": [
    "for item in range(0,5):\n",
    "    print(item)"
   ]
  },
  {
   "cell_type": "code",
   "execution_count": 38,
   "id": "58cf6dd6-f4a3-4a9e-bf68-0ab2611abf3b",
   "metadata": {},
   "outputs": [
    {
     "data": {
      "text/plain": [
       "[1, 2, 3, 4, 5, 6, 7, 8, 9]"
      ]
     },
     "execution_count": 38,
     "metadata": {},
     "output_type": "execute_result"
    }
   ],
   "source": [
    "list(range(1,10))"
   ]
  },
  {
   "cell_type": "code",
   "execution_count": 39,
   "id": "e4504e62-db78-4da0-be2b-96fa9112dd41",
   "metadata": {},
   "outputs": [],
   "source": [
    "x = [1,2,3,4]"
   ]
  },
  {
   "cell_type": "code",
   "execution_count": 40,
   "id": "31c57e40-cae2-4c67-a951-882a32dad4c0",
   "metadata": {},
   "outputs": [],
   "source": [
    "# original for loop\n",
    "out = []\n",
    "for num in x:\n",
    "    out.append(num**2)"
   ]
  },
  {
   "cell_type": "code",
   "execution_count": 41,
   "id": "bb5f4171-155c-4dc9-8bda-11564500d6d0",
   "metadata": {},
   "outputs": [
    {
     "data": {
      "text/plain": [
       "[1, 4, 9, 16]"
      ]
     },
     "execution_count": 41,
     "metadata": {},
     "output_type": "execute_result"
    }
   ],
   "source": [
    "out"
   ]
  },
  {
   "cell_type": "markdown",
   "id": "5e16c38e-4a1d-403b-b727-9cfa75f5811e",
   "metadata": {},
   "source": [
    "list comprehension"
   ]
  },
  {
   "cell_type": "code",
   "execution_count": 42,
   "id": "58277fc3-5962-4f9e-b672-5e27f15e6fae",
   "metadata": {},
   "outputs": [
    {
     "data": {
      "text/plain": [
       "[1, 4, 9, 16]"
      ]
     },
     "execution_count": 42,
     "metadata": {},
     "output_type": "execute_result"
    }
   ],
   "source": [
    "#list comprehension\n",
    "[num**2 for num in x]"
   ]
  },
  {
   "cell_type": "markdown",
   "id": "311a4918-72cf-4903-9cb9-69ea2eee7b96",
   "metadata": {},
   "source": [
    "function"
   ]
  },
  {
   "cell_type": "code",
   "execution_count": 43,
   "id": "1c57de0d-510c-4ae5-a969-c94e93fbfbe1",
   "metadata": {},
   "outputs": [],
   "source": [
    "def my_func():\n",
    "    print('hello')"
   ]
  },
  {
   "cell_type": "code",
   "execution_count": 44,
   "id": "6b1b0c74-13c5-4167-99b7-c58fe437458f",
   "metadata": {},
   "outputs": [
    {
     "name": "stdout",
     "output_type": "stream",
     "text": [
      "hello\n"
     ]
    }
   ],
   "source": [
    "my_func()"
   ]
  },
  {
   "cell_type": "code",
   "execution_count": 48,
   "id": "c71ac93b-b007-49cb-b939-f05e5a72afae",
   "metadata": {},
   "outputs": [],
   "source": [
    "def my_func(param='default'):\n",
    "    print(param)"
   ]
  },
  {
   "cell_type": "code",
   "execution_count": 49,
   "id": "eefb0b43-c739-469e-93e7-d233a3b14db8",
   "metadata": {},
   "outputs": [
    {
     "name": "stdout",
     "output_type": "stream",
     "text": [
      "pin\n"
     ]
    }
   ],
   "source": [
    "my_func('pin')"
   ]
  },
  {
   "cell_type": "code",
   "execution_count": 50,
   "id": "445cf29f-23e4-4c60-b1f2-777860a77eed",
   "metadata": {},
   "outputs": [
    {
     "name": "stdout",
     "output_type": "stream",
     "text": [
      "default\n"
     ]
    }
   ],
   "source": [
    "my_func()"
   ]
  },
  {
   "cell_type": "code",
   "execution_count": 51,
   "id": "4937b37f-6c37-4aee-8103-02b8c3f4dbe7",
   "metadata": {},
   "outputs": [],
   "source": [
    "def my_func(param='default'):\n",
    "    \"\"\"\n",
    "    Docstring here!\n",
    "    \"\"\"\n",
    "    print(param)"
   ]
  },
  {
   "cell_type": "code",
   "execution_count": 52,
   "id": "f6bcc87a-003c-4f17-94ac-7d8e1f97d879",
   "metadata": {},
   "outputs": [
    {
     "name": "stdout",
     "output_type": "stream",
     "text": [
      "default\n"
     ]
    }
   ],
   "source": [
    "my_func()"
   ]
  },
  {
   "cell_type": "code",
   "execution_count": 53,
   "id": "765447c1-9fbe-45a8-bc79-1842e61c5262",
   "metadata": {},
   "outputs": [],
   "source": [
    "def my_func(arg):\n",
    "    \"\"\"\n",
    "    Docstring here!\n",
    "    \"\"\"\n",
    "    print(arg*5)\n",
    "    return arg * 5"
   ]
  },
  {
   "cell_type": "code",
   "execution_count": 54,
   "id": "ca9c83a0-fa94-4fd5-9e2d-ab3181055727",
   "metadata": {},
   "outputs": [
    {
     "name": "stdout",
     "output_type": "stream",
     "text": [
      "25\n"
     ]
    }
   ],
   "source": [
    "x = my_func(5)"
   ]
  },
  {
   "cell_type": "markdown",
   "id": "33f6b0a9-6b34-4594-8ccb-3493cc363391",
   "metadata": {},
   "source": [
    "lamda expression"
   ]
  },
  {
   "cell_type": "code",
   "execution_count": 55,
   "id": "99f5ae07-796c-4316-aa69-077a65dc8078",
   "metadata": {},
   "outputs": [],
   "source": [
    "def time_two(var):\n",
    "    return var*2"
   ]
  },
  {
   "cell_type": "code",
   "execution_count": 56,
   "id": "dec06306-cb79-401e-bd9b-8df476e6cda5",
   "metadata": {},
   "outputs": [],
   "source": [
    "result = time_two(4)"
   ]
  },
  {
   "cell_type": "code",
   "execution_count": 57,
   "id": "d9190c6b-cbe2-421f-8a44-c153ac39650b",
   "metadata": {},
   "outputs": [
    {
     "data": {
      "text/plain": [
       "8"
      ]
     },
     "execution_count": 57,
     "metadata": {},
     "output_type": "execute_result"
    }
   ],
   "source": [
    "result"
   ]
  },
  {
   "cell_type": "code",
   "execution_count": 58,
   "id": "971194d9-e878-4e42-b814-aadeac13585e",
   "metadata": {},
   "outputs": [
    {
     "data": {
      "text/plain": [
       "<function __main__.<lambda>(var)>"
      ]
     },
     "execution_count": 58,
     "metadata": {},
     "output_type": "execute_result"
    }
   ],
   "source": [
    "lambda var:var*2"
   ]
  },
  {
   "cell_type": "code",
   "execution_count": 61,
   "id": "c88319c4-28b3-459d-b9d9-82986b01f12d",
   "metadata": {},
   "outputs": [
    {
     "data": {
      "text/plain": [
       "<function __main__.<lambda>(var)>"
      ]
     },
     "execution_count": 61,
     "metadata": {},
     "output_type": "execute_result"
    }
   ],
   "source": [
    "lambda var: var*2"
   ]
  },
  {
   "cell_type": "code",
   "execution_count": 62,
   "id": "a6f1a567-f0b6-4032-b7c6-1ce87dcea3f1",
   "metadata": {},
   "outputs": [],
   "source": [
    "seq = [1,2,3,4,5]"
   ]
  },
  {
   "cell_type": "code",
   "execution_count": 67,
   "id": "e90ee958-2bf8-4ba3-8854-06ad90953f17",
   "metadata": {},
   "outputs": [],
   "source": [
    "def time_two(var):\n",
    "    return var * 2\n"
   ]
  },
  {
   "cell_type": "code",
   "execution_count": 64,
   "id": "e710d80f-260b-4c20-8e62-8afafe84d3c9",
   "metadata": {},
   "outputs": [
    {
     "data": {
      "text/plain": [
       "<map at 0x2610fcccf10>"
      ]
     },
     "execution_count": 64,
     "metadata": {},
     "output_type": "execute_result"
    }
   ],
   "source": [
    "map(time_two,seq)"
   ]
  },
  {
   "cell_type": "code",
   "execution_count": 65,
   "id": "76cdd887-72a4-4add-89c6-47aebcb6c00b",
   "metadata": {},
   "outputs": [
    {
     "data": {
      "text/plain": [
       "[2, 4, 6, 8, 10]"
      ]
     },
     "execution_count": 65,
     "metadata": {},
     "output_type": "execute_result"
    }
   ],
   "source": [
    "list(map(time_two,seq))"
   ]
  },
  {
   "cell_type": "code",
   "execution_count": 69,
   "id": "bfc142b0-7291-484b-9901-78e9704dcfab",
   "metadata": {},
   "outputs": [
    {
     "data": {
      "text/plain": [
       "[2, 4, 6, 8, 10]"
      ]
     },
     "execution_count": 69,
     "metadata": {},
     "output_type": "execute_result"
    }
   ],
   "source": [
    "list(map(lambda var: var * 2,seq))"
   ]
  },
  {
   "cell_type": "markdown",
   "id": "f1f1346e-9f7e-4162-b46a-c483a20cdc1d",
   "metadata": {},
   "source": [
    "filter"
   ]
  },
  {
   "cell_type": "code",
   "execution_count": 70,
   "id": "d6711773-2642-474b-b553-bcb16bfec250",
   "metadata": {},
   "outputs": [],
   "source": [
    "seq = [1,2,3,4,5]"
   ]
  },
  {
   "cell_type": "code",
   "execution_count": 71,
   "id": "a61cea83-eca1-42fa-99ce-d34a5484d4dc",
   "metadata": {},
   "outputs": [],
   "source": [
    "def is_even(num):\n",
    "    return num%2 == 0"
   ]
  },
  {
   "cell_type": "code",
   "execution_count": 72,
   "id": "712e226a-271d-4b90-be99-7ba18c43b610",
   "metadata": {},
   "outputs": [
    {
     "data": {
      "text/plain": [
       "[2, 4]"
      ]
     },
     "execution_count": 72,
     "metadata": {},
     "output_type": "execute_result"
    }
   ],
   "source": [
    "list(filter(is_even,seq))"
   ]
  },
  {
   "cell_type": "code",
   "execution_count": 73,
   "id": "01557bad-2759-444c-9b07-44c545d980f4",
   "metadata": {},
   "outputs": [
    {
     "data": {
      "text/plain": [
       "<function __main__.<lambda>(num)>"
      ]
     },
     "execution_count": 73,
     "metadata": {},
     "output_type": "execute_result"
    }
   ],
   "source": [
    "lambda num:num%2 == 0"
   ]
  },
  {
   "cell_type": "markdown",
   "id": "9ac22168-08df-44eb-8a13-d70a12e34674",
   "metadata": {},
   "source": [
    "various useful methods"
   ]
  },
  {
   "cell_type": "code",
   "execution_count": 6,
   "id": "8fc42fdb-9b3f-4069-839f-c796935ad70d",
   "metadata": {},
   "outputs": [],
   "source": [
    "st = 'Pin'"
   ]
  },
  {
   "cell_type": "code",
   "execution_count": 8,
   "id": "0005346f-f2bc-4ee2-867f-6799fd39eb69",
   "metadata": {},
   "outputs": [
    {
     "data": {
      "text/plain": [
       "'pin'"
      ]
     },
     "execution_count": 8,
     "metadata": {},
     "output_type": "execute_result"
    }
   ],
   "source": [
    "st.lower()"
   ]
  },
  {
   "cell_type": "code",
   "execution_count": 9,
   "id": "37f68ed4-218f-49bc-8e86-bcef47301be8",
   "metadata": {},
   "outputs": [
    {
     "data": {
      "text/plain": [
       "'PIN'"
      ]
     },
     "execution_count": 9,
     "metadata": {},
     "output_type": "execute_result"
    }
   ],
   "source": [
    "st.upper()"
   ]
  },
  {
   "cell_type": "code",
   "execution_count": 10,
   "id": "a2158c3e-eb7d-4226-9fb5-95a2db5f7ccd",
   "metadata": {},
   "outputs": [],
   "source": [
    "tweet = \"Go to sport\""
   ]
  },
  {
   "cell_type": "code",
   "execution_count": 11,
   "id": "8f04164a-c174-4843-ada0-595c2ff95f16",
   "metadata": {},
   "outputs": [
    {
     "data": {
      "text/plain": [
       "['Go', 'to', 'sport']"
      ]
     },
     "execution_count": 11,
     "metadata": {},
     "output_type": "execute_result"
    }
   ],
   "source": [
    "tweet.split()"
   ]
  },
  {
   "cell_type": "code",
   "execution_count": 12,
   "id": "29a98287-48e1-4617-866c-622c78308fb1",
   "metadata": {},
   "outputs": [],
   "source": [
    "tweet = \"Go to @sport\""
   ]
  },
  {
   "cell_type": "code",
   "execution_count": 15,
   "id": "c29da230-448b-491e-b5da-eb73be546113",
   "metadata": {},
   "outputs": [
    {
     "data": {
      "text/plain": [
       "['Go to ', 'sport']"
      ]
     },
     "execution_count": 15,
     "metadata": {},
     "output_type": "execute_result"
    }
   ],
   "source": [
    "tweet.split('@')"
   ]
  },
  {
   "cell_type": "code",
   "execution_count": 16,
   "id": "0fc17a56-f4c9-40e6-a9c2-1e0ea6d2e2d4",
   "metadata": {},
   "outputs": [
    {
     "data": {
      "text/plain": [
       "'sport'"
      ]
     },
     "execution_count": 16,
     "metadata": {},
     "output_type": "execute_result"
    }
   ],
   "source": [
    "tweet.split('@')[1]"
   ]
  },
  {
   "cell_type": "code",
   "execution_count": 17,
   "id": "6557e870-cc99-461c-a197-283feb4b7752",
   "metadata": {},
   "outputs": [],
   "source": [
    "d = {'key':10, 'key2':'seconditem'}"
   ]
  },
  {
   "cell_type": "code",
   "execution_count": 19,
   "id": "fefc5ec2-af36-4473-8f84-8376578da6d5",
   "metadata": {},
   "outputs": [
    {
     "data": {
      "text/plain": [
       "dict_keys(['key', 'key2'])"
      ]
     },
     "execution_count": 19,
     "metadata": {},
     "output_type": "execute_result"
    }
   ],
   "source": [
    "d.keys()"
   ]
  },
  {
   "cell_type": "code",
   "execution_count": 20,
   "id": "63275672-9f3e-4b5f-a339-eb5e13862f8b",
   "metadata": {},
   "outputs": [
    {
     "data": {
      "text/plain": [
       "dict_items([('key', 10), ('key2', 'seconditem')])"
      ]
     },
     "execution_count": 20,
     "metadata": {},
     "output_type": "execute_result"
    }
   ],
   "source": [
    "d.items()"
   ]
  },
  {
   "cell_type": "code",
   "execution_count": 21,
   "id": "05a9f318-25a2-4040-98da-f4532d2d0ea2",
   "metadata": {},
   "outputs": [],
   "source": [
    "my_list = [1,2,3]"
   ]
  },
  {
   "cell_type": "code",
   "execution_count": 22,
   "id": "e292fa09-1a7f-43fd-8c23-2a395b1d8892",
   "metadata": {},
   "outputs": [],
   "source": [
    "my_list.append(4)"
   ]
  },
  {
   "cell_type": "code",
   "execution_count": 23,
   "id": "f80963bc-fd49-49a6-82c6-7b6bd940b550",
   "metadata": {},
   "outputs": [
    {
     "data": {
      "text/plain": [
       "[1, 2, 3, 4]"
      ]
     },
     "execution_count": 23,
     "metadata": {},
     "output_type": "execute_result"
    }
   ],
   "source": [
    "my_list"
   ]
  },
  {
   "cell_type": "code",
   "execution_count": 24,
   "id": "47477665-162e-4b2c-8f12-df58f142abd6",
   "metadata": {},
   "outputs": [
    {
     "data": {
      "text/plain": [
       "True"
      ]
     },
     "execution_count": 24,
     "metadata": {},
     "output_type": "execute_result"
    }
   ],
   "source": [
    "1 in my_list"
   ]
  },
  {
   "cell_type": "markdown",
   "id": "b3451060-1d2d-4672-995c-fcb1d95679dc",
   "metadata": {},
   "source": [
    "oop"
   ]
  },
  {
   "cell_type": "code",
   "execution_count": 29,
   "id": "cc520c00-5ffc-4a8b-bd15-18a8feda65db",
   "metadata": {},
   "outputs": [],
   "source": [
    "from datetime import date\n",
    "\n",
    "class Account :\n",
    "    def __init__(self, numID):\n",
    "        self.number = numID\n",
    "        self.account_type()\n",
    "        \n",
    "        \n",
    "    def account_type(self):\n",
    "        if str(self.number).startswith(\"1\"):\n",
    "            self.type = \"current\"\n",
    "        elif str(self.number).startswith(\"2\"):\n",
    "            self.type = \"saving\"\n",
    "            \n",
    "    def interest_rate(self):\n",
    "        if self.type == 'current':\n",
    "            self.interest = 0\n",
    "        elif self.type == 'saving':\n",
    "            self.interest = 5 # per yeat\n",
    "        return self.interest \n",
    "    \n",
    "    def interest_accrued(self):\n",
    "        self.interest_rate()\n",
    "        self.balance = 1000\n",
    "        \n",
    "        current_date = date.today()\n",
    "        beginning_date = date(current_date.year,1 ,1)\n",
    "        \n",
    "        self.interest_accrued = self.balance * ( abs(current_date - beginning_date).days / 365) * self.interest / 100\n",
    "        return self.interest_accrued + self.balance\n",
    "    "
   ]
  },
  {
   "cell_type": "code",
   "execution_count": 38,
   "id": "94a4879b-185d-4c9d-bdfc-a6dbb02e6273",
   "metadata": {},
   "outputs": [],
   "source": [
    "acc = Account(1001)"
   ]
  },
  {
   "cell_type": "code",
   "execution_count": 39,
   "id": "b45ac130-4ed0-4a9c-a72d-8bf341447e75",
   "metadata": {},
   "outputs": [
    {
     "data": {
      "text/plain": [
       "1001"
      ]
     },
     "execution_count": 39,
     "metadata": {},
     "output_type": "execute_result"
    }
   ],
   "source": [
    "acc.number"
   ]
  },
  {
   "cell_type": "code",
   "execution_count": 40,
   "id": "1ab45166-844c-443f-900f-84d78ecb0663",
   "metadata": {},
   "outputs": [],
   "source": [
    "#acc.account_type()"
   ]
  },
  {
   "cell_type": "code",
   "execution_count": 41,
   "id": "f197b298-29d9-47c4-8739-65173b81976e",
   "metadata": {},
   "outputs": [
    {
     "data": {
      "text/plain": [
       "'current'"
      ]
     },
     "execution_count": 41,
     "metadata": {},
     "output_type": "execute_result"
    }
   ],
   "source": [
    "acc.type"
   ]
  },
  {
   "cell_type": "code",
   "execution_count": 42,
   "id": "b5d9d5ac-26f6-4354-b9ca-9cc459d1cb38",
   "metadata": {},
   "outputs": [
    {
     "data": {
      "text/plain": [
       "0"
      ]
     },
     "execution_count": 42,
     "metadata": {},
     "output_type": "execute_result"
    }
   ],
   "source": [
    "acc.interest_rate()"
   ]
  },
  {
   "cell_type": "code",
   "execution_count": 43,
   "id": "81b1fdfc-701c-4e40-a6a4-23dee434be43",
   "metadata": {},
   "outputs": [
    {
     "data": {
      "text/plain": [
       "0"
      ]
     },
     "execution_count": 43,
     "metadata": {},
     "output_type": "execute_result"
    }
   ],
   "source": [
    "acc.interest"
   ]
  },
  {
   "cell_type": "code",
   "execution_count": 44,
   "id": "d2f5da59-a11d-4327-80df-9da0ae84cce8",
   "metadata": {},
   "outputs": [
    {
     "data": {
      "text/plain": [
       "1000.0"
      ]
     },
     "execution_count": 44,
     "metadata": {},
     "output_type": "execute_result"
    }
   ],
   "source": [
    "acc.interest_accrued()"
   ]
  },
  {
   "cell_type": "code",
   "execution_count": null,
   "id": "a3859ab6-0025-4b8d-9745-d56a532cd5d9",
   "metadata": {},
   "outputs": [],
   "source": []
  }
 ],
 "metadata": {
  "kernelspec": {
   "display_name": "Python 3 (ipykernel)",
   "language": "python",
   "name": "python3"
  },
  "language_info": {
   "codemirror_mode": {
    "name": "ipython",
    "version": 3
   },
   "file_extension": ".py",
   "mimetype": "text/x-python",
   "name": "python",
   "nbconvert_exporter": "python",
   "pygments_lexer": "ipython3",
   "version": "3.9.13"
  }
 },
 "nbformat": 4,
 "nbformat_minor": 5
}
