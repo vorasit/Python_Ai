{
  "nbformat": 4,
  "nbformat_minor": 0,
  "metadata": {
    "colab": {
      "name": "James.ipynb",
      "provenance": []
    },
    "kernelspec": {
      "name": "python3",
      "display_name": "Python 3"
    }
  },
  "cells": [
    {
      "cell_type": "code",
      "metadata": {
        "colab": {
          "base_uri": "https://localhost:8080/"
        },
        "id": "AcZws8K6gkwA",
        "outputId": "895b85f9-d5a1-4e3d-8c4b-f3fb481da0ff"
      },
      "source": [
        "x = 3\n",
        "y = 3.6\n",
        "z = 'I am learning python'\n",
        "print( x )\n",
        "print( y )\n",
        "print( z )\n",
        "print( x+y )"
      ],
      "execution_count": null,
      "outputs": [
        {
          "output_type": "stream",
          "text": [
            "3\n",
            "3.6\n",
            "I am learning python\n",
            "6.6\n"
          ],
          "name": "stdout"
        }
      ]
    },
    {
      "cell_type": "code",
      "metadata": {
        "colab": {
          "base_uri": "https://localhost:8080/"
        },
        "id": "4z4Ioa1BhB67",
        "outputId": "cf010cb7-a190-4d0f-ff5f-0fdb1f701f23"
      },
      "source": [
        "name = 'James'\n",
        "print( 'Hello '+name )\n"
      ],
      "execution_count": null,
      "outputs": [
        {
          "output_type": "stream",
          "text": [
            "Hello James\n"
          ],
          "name": "stdout"
        }
      ]
    },
    {
      "cell_type": "code",
      "metadata": {
        "colab": {
          "base_uri": "https://localhost:8080/"
        },
        "id": "7TtzkgFChYvc",
        "outputId": "3fee3d71-d546-4331-9862-9db1705459b7"
      },
      "source": [
        "s1 = input( 'ใคร: ' )\n",
        "s2 = input( 'ทำอะไร: ' )\n",
        "s3 = input( 'ที่ไหน: ' )\n",
        "s4 = input( 'อย่างไร: ' )\n",
        "print( s1 + s2 + s3 + s4 )"
      ],
      "execution_count": null,
      "outputs": [
        {
          "output_type": "stream",
          "text": [
            "ใคร: เจมส์\n",
            "ทำอะไร: กินข้าว\n",
            "ที่ไหน: ที่บ้าน\n",
            "อย่างไร: อย่างเอร็ดอร่อย\n",
            "เจมส์กินข้าวที่บ้านอย่างเอร็ดอร่อย\n"
          ],
          "name": "stdout"
        }
      ]
    },
    {
      "cell_type": "markdown",
      "metadata": {
        "id": "DvJtYUxBgrLu"
      },
      "source": [
        ""
      ]
    },
    {
      "cell_type": "code",
      "metadata": {
        "colab": {
          "base_uri": "https://localhost:8080/",
          "height": 184
        },
        "id": "SG-Cs0zbjxt6",
        "outputId": "51259889-cf07-40f2-f7f1-21ab60331c0f"
      },
      "source": [
        "x = 4\n",
        "print('Fantastic '+x)"
      ],
      "execution_count": null,
      "outputs": [
        {
          "output_type": "error",
          "ename": "TypeError",
          "evalue": "ignored",
          "traceback": [
            "\u001b[0;31m---------------------------------------------------------------------------\u001b[0m",
            "\u001b[0;31mTypeError\u001b[0m                                 Traceback (most recent call last)",
            "\u001b[0;32m<ipython-input-9-3faecc4df1d0>\u001b[0m in \u001b[0;36m<module>\u001b[0;34m()\u001b[0m\n\u001b[1;32m      1\u001b[0m \u001b[0mx\u001b[0m \u001b[0;34m=\u001b[0m \u001b[0;36m4\u001b[0m\u001b[0;34m\u001b[0m\u001b[0;34m\u001b[0m\u001b[0m\n\u001b[0;32m----> 2\u001b[0;31m \u001b[0mprint\u001b[0m\u001b[0;34m(\u001b[0m\u001b[0;34m'Fantastic '\u001b[0m\u001b[0;34m+\u001b[0m\u001b[0mx\u001b[0m\u001b[0;34m)\u001b[0m\u001b[0;34m\u001b[0m\u001b[0;34m\u001b[0m\u001b[0m\n\u001b[0m",
            "\u001b[0;31mTypeError\u001b[0m: must be str, not int"
          ]
        }
      ]
    },
    {
      "cell_type": "code",
      "metadata": {
        "colab": {
          "base_uri": "https://localhost:8080/"
        },
        "id": "4-Rm89wPj1nK",
        "outputId": "13562f18-276a-499b-8d52-fbbef0c9fc1b"
      },
      "source": [
        "y = str(x)\n",
        "print('Fantastic '+y)"
      ],
      "execution_count": null,
      "outputs": [
        {
          "output_type": "stream",
          "text": [
            "Fantastic 4\n"
          ],
          "name": "stdout"
        }
      ]
    },
    {
      "cell_type": "code",
      "metadata": {
        "colab": {
          "base_uri": "https://localhost:8080/"
        },
        "id": "gJAA8MTakdYq",
        "outputId": "1eac98cf-e840-40e6-eb78-3515ab881c1e"
      },
      "source": [
        "z = float(y)\n",
        "print(z)"
      ],
      "execution_count": null,
      "outputs": [
        {
          "output_type": "stream",
          "text": [
            "4.0\n"
          ],
          "name": "stdout"
        }
      ]
    },
    {
      "cell_type": "markdown",
      "metadata": {
        "id": "-0Do6GPBkvTa"
      },
      "source": [
        "โปรแกรมบวกเลข"
      ]
    },
    {
      "cell_type": "code",
      "metadata": {
        "colab": {
          "base_uri": "https://localhost:8080/"
        },
        "id": "zxsZxTf_kqPH",
        "outputId": "76d9962c-20f9-416e-c00b-c18f83c4dff1"
      },
      "source": [
        "x = float( input( 'First Number: ' ) )\n",
        "y = float( input( 'Second Number: ' ) )\n",
        "\n",
        "print( x+y )"
      ],
      "execution_count": null,
      "outputs": [
        {
          "output_type": "stream",
          "text": [
            "First Number: 5\n",
            "Second Number: 4\n",
            "9.0\n"
          ],
          "name": "stdout"
        }
      ]
    },
    {
      "cell_type": "code",
      "metadata": {
        "colab": {
          "base_uri": "https://localhost:8080/"
        },
        "id": "SK1GtzC3vivy",
        "outputId": "d2d1af54-5613-4125-8843-07883b53c857"
      },
      "source": [
        "z1 = x + y\n",
        "z2 = x - y\n",
        "z3 = x * y\n",
        "z4 = x ** y\n",
        "z5 = x / y\n",
        "z6 = x // y # หารไม่เอาเศษ\n",
        "z7 = x % y # modulo : หาค่าเศษ\n",
        "\n",
        "print( z1 )\n",
        "print( z2 )\n",
        "print( z3 )\n",
        "print( z4 )\n",
        "print( z5 )\n",
        "print( z6 )\n",
        "print( z7 )"
      ],
      "execution_count": null,
      "outputs": [
        {
          "output_type": "stream",
          "text": [
            "9.0\n",
            "1.0\n",
            "20.0\n",
            "625.0\n",
            "1.25\n",
            "1.0\n",
            "1.0\n"
          ],
          "name": "stdout"
        }
      ]
    },
    {
      "cell_type": "code",
      "metadata": {
        "colab": {
          "base_uri": "https://localhost:8080/"
        },
        "id": "cXvgOWwzx8yY",
        "outputId": "f2aadc78-2a15-490c-cecb-b9731198f506"
      },
      "source": [
        "x = 2\n",
        "y = 3\n",
        "\n",
        "z1 = x + y * x - x * y**2\n",
        "z2 = x + (y * x) - (x * (y**2))\n",
        "\n",
        "print(z1, z2)\n"
      ],
      "execution_count": null,
      "outputs": [
        {
          "output_type": "stream",
          "text": [
            "-10 -10\n"
          ],
          "name": "stdout"
        }
      ]
    },
    {
      "cell_type": "code",
      "metadata": {
        "colab": {
          "base_uri": "https://localhost:8080/"
        },
        "id": "AjKMnULz16r-",
        "outputId": "21379291-ec55-4a9e-dfe9-979318666d01"
      },
      "source": [
        "a = 4\n",
        "b = 5\n",
        "\n",
        "print( a == b )\n",
        "print( a != b )\n",
        "print( a > b )\n",
        "print( a <= b )\n"
      ],
      "execution_count": null,
      "outputs": [
        {
          "output_type": "stream",
          "text": [
            "False\n",
            "True\n",
            "False\n",
            "True\n"
          ],
          "name": "stdout"
        }
      ]
    },
    {
      "cell_type": "code",
      "metadata": {
        "colab": {
          "base_uri": "https://localhost:8080/"
        },
        "id": "Yy5GQ_yZ2bz_",
        "outputId": "4510a035-957d-452d-e91e-61633f554b4c"
      },
      "source": [
        "a = 4\n",
        "b = [3, 4, 5, 6, 7]\n",
        "\n",
        "print( a in b )\n",
        "print( a > 3 and a in b )\n",
        "print( a < 3 and a in b )\n"
      ],
      "execution_count": null,
      "outputs": [
        {
          "output_type": "stream",
          "text": [
            "True\n",
            "True\n",
            "False\n"
          ],
          "name": "stdout"
        }
      ]
    },
    {
      "cell_type": "markdown",
      "metadata": {
        "id": "vIa029zRDeDS"
      },
      "source": [
        "การเขียนเงื่อนไข IF + Condition"
      ]
    },
    {
      "cell_type": "code",
      "metadata": {
        "colab": {
          "base_uri": "https://localhost:8080/"
        },
        "id": "zjGXGo_9DdRf",
        "outputId": "282d0da9-ea3c-4e22-d463-a6f42d9a88e2"
      },
      "source": [
        "a = 4\n",
        "print( a > 3 )"
      ],
      "execution_count": null,
      "outputs": [
        {
          "output_type": "stream",
          "text": [
            "True\n"
          ],
          "name": "stdout"
        }
      ]
    },
    {
      "cell_type": "code",
      "metadata": {
        "colab": {
          "base_uri": "https://localhost:8080/"
        },
        "id": "68-ibiOADxGO",
        "outputId": "855c5d68-8c30-4d93-ff4e-dc65f00f46c4"
      },
      "source": [
        "a = 3\n",
        "if a > 3:\n",
        "  print( 'Greater than 3' )\n",
        "elif a == 3:\n",
        "  print( 'Equal to 3' )\n",
        "else:\n",
        "  print( 'Smaller than 3' )"
      ],
      "execution_count": null,
      "outputs": [
        {
          "output_type": "stream",
          "text": [
            "Equal to 3\n"
          ],
          "name": "stdout"
        }
      ]
    },
    {
      "cell_type": "markdown",
      "metadata": {
        "id": "Rz3f2DsnGcBh"
      },
      "source": [
        "โปรแกรมคิดเกรด"
      ]
    },
    {
      "cell_type": "code",
      "metadata": {
        "colab": {
          "base_uri": "https://localhost:8080/"
        },
        "id": "eyHMFFjgGbFk",
        "outputId": "d1fb6b8a-5aee-4353-def4-c56ea998eb42"
      },
      "source": [
        "y = float(input( 'ใส่คะแนน: ' ))\n",
        "\n",
        "if y >= 80:\n",
        "  print( 'A' )\n",
        "elif y >= 70:\n",
        "  print( 'B' )\n",
        "elif y >= 60:\n",
        "  print( 'C' )\n",
        "elif y >= 50:\n",
        "  print( 'D' )\n",
        "else:\n",
        "  print( 'F' )\n"
      ],
      "execution_count": null,
      "outputs": [
        {
          "output_type": "stream",
          "text": [
            "ใส่คะแนน: 50\n",
            "D\n"
          ],
          "name": "stdout"
        }
      ]
    },
    {
      "cell_type": "markdown",
      "metadata": {
        "id": "lNSOuaGVHfvb"
      },
      "source": [
        "เกมทายเหรียญ"
      ]
    },
    {
      "cell_type": "code",
      "metadata": {
        "colab": {
          "base_uri": "https://localhost:8080/"
        },
        "id": "rfcjdw3xHZA8",
        "outputId": "143677a1-0403-494c-fc06-16ad062e5c3f"
      },
      "source": [
        "import random\n",
        "\n",
        "# coin: 0 is HEAD and 1 is TAIL\n",
        "x = random.randint(0, 1)\n",
        "\n",
        "# guess\n",
        "y = int(input( 'HEAD(type 0) or TAIL(type 1): ' ))\n",
        "\n",
        "if x == y:\n",
        "  print( 'YESS !!' )\n",
        "elif y != 0 and y != 1:\n",
        "  print( 'input 0 or 1 only !' )\n",
        "else:\n",
        "  print( 'NO !!!' )\n",
        "\n"
      ],
      "execution_count": null,
      "outputs": [
        {
          "output_type": "stream",
          "text": [
            "HEAD(type 0) or TAIL(type 1): 0\n",
            "YESS !!\n"
          ],
          "name": "stdout"
        }
      ]
    },
    {
      "cell_type": "markdown",
      "metadata": {
        "id": "URlV-3JPuOZS"
      },
      "source": [
        "LIST"
      ]
    },
    {
      "cell_type": "code",
      "metadata": {
        "id": "dans5qC4uN0J"
      },
      "source": [
        "numbers = [-2,3,5,8,11,15]\n",
        "words = ['apple','bird','cat','dog']"
      ],
      "execution_count": null,
      "outputs": []
    },
    {
      "cell_type": "code",
      "metadata": {
        "colab": {
          "base_uri": "https://localhost:8080/"
        },
        "id": "9m5SCYllvASi",
        "outputId": "0ccfa7c6-ad2e-473f-b01c-10f11653adcf"
      },
      "source": [
        "print( len(numbers) )\n",
        "print( len(words) )\n"
      ],
      "execution_count": null,
      "outputs": [
        {
          "output_type": "stream",
          "text": [
            "6\n",
            "4\n"
          ],
          "name": "stdout"
        }
      ]
    },
    {
      "cell_type": "code",
      "metadata": {
        "colab": {
          "base_uri": "https://localhost:8080/"
        },
        "id": "Fnzzn7cqvOr8",
        "outputId": "f2a8d7bf-633f-41ba-c9ad-b693ffe7e22d"
      },
      "source": [
        "numbers + words"
      ],
      "execution_count": null,
      "outputs": [
        {
          "output_type": "execute_result",
          "data": {
            "text/plain": [
              "[-2, 3, 5, 8, 11, 15, 'apple', 'bird', 'cat', 'dog']"
            ]
          },
          "metadata": {
            "tags": []
          },
          "execution_count": 4
        }
      ]
    },
    {
      "cell_type": "code",
      "metadata": {
        "colab": {
          "base_uri": "https://localhost:8080/"
        },
        "id": "oQHt4uslvS7y",
        "outputId": "d5ec3cc1-4e0b-4e83-90c3-9d0b7552241d"
      },
      "source": [
        "a = []\n",
        "a.append(-4)\n",
        "print(a)\n",
        "\n",
        "a.append(3)\n",
        "print(a)\n",
        "\n",
        "a.append('hello')\n",
        "print(a)"
      ],
      "execution_count": null,
      "outputs": [
        {
          "output_type": "stream",
          "text": [
            "[-4]\n",
            "[-4, 3]\n",
            "[-4, 3, 'hello']\n"
          ],
          "name": "stdout"
        }
      ]
    },
    {
      "cell_type": "code",
      "metadata": {
        "colab": {
          "base_uri": "https://localhost:8080/"
        },
        "id": "0UjIyad9v_HQ",
        "outputId": "392fd47e-4059-4ca5-aaf0-23a748823eff"
      },
      "source": [
        "x1 = list( range(10) )\n",
        "x2 = list( range(0,10,2) )\n",
        "x3 = list( range(10,60,3) )\n",
        "x4 = list( range(20,0,-2) )\n",
        "\n",
        "print(x1)\n",
        "print(x2)\n",
        "print(x3)\n",
        "print(x4)"
      ],
      "execution_count": null,
      "outputs": [
        {
          "output_type": "stream",
          "text": [
            "[0, 1, 2, 3, 4, 5, 6, 7, 8, 9]\n",
            "[0, 2, 4, 6, 8]\n",
            "[10, 13, 16, 19, 22, 25, 28, 31, 34, 37, 40, 43, 46, 49, 52, 55, 58]\n",
            "[20, 18, 16, 14, 12, 10, 8, 6, 4, 2]\n"
          ],
          "name": "stdout"
        }
      ]
    },
    {
      "cell_type": "markdown",
      "metadata": {
        "id": "bnCwIxUzw_ei"
      },
      "source": [
        "Index"
      ]
    },
    {
      "cell_type": "code",
      "metadata": {
        "colab": {
          "base_uri": "https://localhost:8080/"
        },
        "id": "yY7gHAzcw-wG",
        "outputId": "afbc831c-860f-402e-aa98-5759e56b8ed5"
      },
      "source": [
        "x = list( range(10,60,3) )\n",
        "\n",
        "print(x)\n",
        "print( x[0] )\n",
        "print( x[3] )\n",
        "print( x[-1] )\n",
        "print( x[-4] )"
      ],
      "execution_count": null,
      "outputs": [
        {
          "output_type": "stream",
          "text": [
            "[10, 13, 16, 19, 22, 25, 28, 31, 34, 37, 40, 43, 46, 49, 52, 55, 58]\n",
            "10\n",
            "19\n",
            "58\n",
            "49\n"
          ],
          "name": "stdout"
        }
      ]
    },
    {
      "cell_type": "code",
      "metadata": {
        "colab": {
          "base_uri": "https://localhost:8080/"
        },
        "id": "1y9fjkGRx0jR",
        "outputId": "3a2bd8f4-2412-467d-d013-27f72051bf02"
      },
      "source": [
        "print(x)\n",
        "print( x[0:5] )\n",
        "print( x[:-4] )\n",
        "print( x[5:] )\n",
        "print( x[::2] )\n"
      ],
      "execution_count": null,
      "outputs": [
        {
          "output_type": "stream",
          "text": [
            "[10, 13, 16, 19, 22, 25, 28, 31, 34, 37, 40, 43, 46, 49, 52, 55, 58]\n",
            "[10, 13, 16, 19, 22]\n",
            "[10, 13, 16, 19, 22, 25, 28, 31, 34, 37, 40, 43, 46]\n",
            "[25, 28, 31, 34, 37, 40, 43, 46, 49, 52, 55, 58]\n",
            "[10, 16, 22, 28, 34, 40, 46, 52, 58]\n"
          ],
          "name": "stdout"
        }
      ]
    },
    {
      "cell_type": "markdown",
      "metadata": {
        "id": "42R3VBOd0yZ0"
      },
      "source": [
        "**Loop** \n",
        "\n",
        "```\n",
        "while\n",
        "```\n",
        "```\n",
        "for\n",
        "```\n"
      ]
    },
    {
      "cell_type": "code",
      "metadata": {
        "colab": {
          "base_uri": "https://localhost:8080/"
        },
        "id": "RL7-EcCP0gSv",
        "outputId": "789ab4ca-f75a-48f4-dc9a-f5e29f1be772"
      },
      "source": [
        "a = 0\n",
        "while a<3:\n",
        "  print(a)\n",
        "  a += 0.5"
      ],
      "execution_count": null,
      "outputs": [
        {
          "output_type": "stream",
          "text": [
            "0\n",
            "0.5\n",
            "1.0\n",
            "1.5\n",
            "2.0\n",
            "2.5\n"
          ],
          "name": "stdout"
        }
      ]
    },
    {
      "cell_type": "code",
      "metadata": {
        "colab": {
          "base_uri": "https://localhost:8080/"
        },
        "id": "Ov0z0pr94NnM",
        "outputId": "e3194557-07f7-4fd5-9e68-1727673ee869"
      },
      "source": [
        "N = int( input('Input an integer : ') )\n",
        "a = 0\n",
        "sum = 0\n",
        "\n",
        "while a <= N:\n",
        "  sum += a\n",
        "  a += 1\n",
        "  print( sum )\n"
      ],
      "execution_count": null,
      "outputs": [
        {
          "output_type": "stream",
          "text": [
            "Input an integer : 5\n",
            "0\n",
            "1\n",
            "3\n",
            "6\n",
            "10\n",
            "15\n"
          ],
          "name": "stdout"
        }
      ]
    },
    {
      "cell_type": "code",
      "metadata": {
        "colab": {
          "base_uri": "https://localhost:8080/"
        },
        "id": "yXab5m485LK0",
        "outputId": "9a50db5c-61c8-4858-a02a-a1fcbeb57458"
      },
      "source": [
        "x = list( range(0,10) )\n",
        "print(x)"
      ],
      "execution_count": null,
      "outputs": [
        {
          "output_type": "stream",
          "text": [
            "[0, 1, 2, 3, 4, 5, 6, 7, 8, 9]\n"
          ],
          "name": "stdout"
        }
      ]
    },
    {
      "cell_type": "code",
      "metadata": {
        "colab": {
          "base_uri": "https://localhost:8080/"
        },
        "id": "gK7i1xj85R0k",
        "outputId": "678c760d-073e-4f63-8f29-1d50b4cc8ade"
      },
      "source": [
        "for i in range(0,10):\n",
        "  print( i )\n"
      ],
      "execution_count": null,
      "outputs": [
        {
          "output_type": "stream",
          "text": [
            "0\n",
            "1\n",
            "2\n",
            "3\n",
            "4\n",
            "5\n",
            "6\n",
            "7\n",
            "8\n",
            "9\n"
          ],
          "name": "stdout"
        }
      ]
    },
    {
      "cell_type": "code",
      "metadata": {
        "colab": {
          "base_uri": "https://localhost:8080/"
        },
        "id": "GaybiB1s52eL",
        "outputId": "1f7e486a-761d-45ae-badb-aa0d5fd5afff"
      },
      "source": [
        "for i in range(1,13):\n",
        "  print( '2 คูณ '+str(i)+' ได้ '+str(2*i) )\n"
      ],
      "execution_count": null,
      "outputs": [
        {
          "output_type": "stream",
          "text": [
            "2 คูณ 1 ได้ 2\n",
            "2 คูณ 2 ได้ 4\n",
            "2 คูณ 3 ได้ 6\n",
            "2 คูณ 4 ได้ 8\n",
            "2 คูณ 5 ได้ 10\n",
            "2 คูณ 6 ได้ 12\n",
            "2 คูณ 7 ได้ 14\n",
            "2 คูณ 8 ได้ 16\n",
            "2 คูณ 9 ได้ 18\n",
            "2 คูณ 10 ได้ 20\n",
            "2 คูณ 11 ได้ 22\n",
            "2 คูณ 12 ได้ 24\n"
          ],
          "name": "stdout"
        }
      ]
    },
    {
      "cell_type": "markdown",
      "metadata": {
        "id": "-k4-MylS6XGA"
      },
      "source": [
        "แปลงค่าอุณหภูมิในหน่วยองศา celcius ตั้งแต่ 0, 10, 20, 30, ..., 100 ไปเป็นค่าในหน่วยองศา Farenheit\n",
        "\n",
        "$F = 32.0 + 1.8 C$"
      ]
    },
    {
      "cell_type": "code",
      "metadata": {
        "colab": {
          "base_uri": "https://localhost:8080/"
        },
        "id": "UdaDH-8d6S2x",
        "outputId": "7a14c7a2-6a9a-4ae1-b11a-2a288de70e24"
      },
      "source": [
        "for c in range(0,101,10):\n",
        "  F = 32.0 + 1.8*c\n",
        "  print( str(c)+' Degree Celcius is '+str(F)+' Degree Farenheit' )\n"
      ],
      "execution_count": null,
      "outputs": [
        {
          "output_type": "stream",
          "text": [
            "0 Degree Celcius is 32.0 Degree Farenheit\n",
            "10 Degree Celcius is 50.0 Degree Farenheit\n",
            "20 Degree Celcius is 68.0 Degree Farenheit\n",
            "30 Degree Celcius is 86.0 Degree Farenheit\n",
            "40 Degree Celcius is 104.0 Degree Farenheit\n",
            "50 Degree Celcius is 122.0 Degree Farenheit\n",
            "60 Degree Celcius is 140.0 Degree Farenheit\n",
            "70 Degree Celcius is 158.0 Degree Farenheit\n",
            "80 Degree Celcius is 176.0 Degree Farenheit\n",
            "90 Degree Celcius is 194.0 Degree Farenheit\n",
            "100 Degree Celcius is 212.0 Degree Farenheit\n"
          ],
          "name": "stdout"
        }
      ]
    },
    {
      "cell_type": "markdown",
      "metadata": {
        "id": "eZqNn9n19YPv"
      },
      "source": [
        "Function"
      ]
    },
    {
      "cell_type": "code",
      "metadata": {
        "id": "1wqjGI709XcJ"
      },
      "source": [
        "def area(width, height):\n",
        "  area = width*height\n",
        "  return area"
      ],
      "execution_count": null,
      "outputs": []
    },
    {
      "cell_type": "code",
      "metadata": {
        "colab": {
          "base_uri": "https://localhost:8080/"
        },
        "id": "X3uDdAb6-QF_",
        "outputId": "00ef0ec8-01a5-40e5-c1d3-53c23f34e77b"
      },
      "source": [
        "area(2,4)"
      ],
      "execution_count": null,
      "outputs": [
        {
          "output_type": "execute_result",
          "data": {
            "text/plain": [
              "8"
            ]
          },
          "metadata": {
            "tags": []
          },
          "execution_count": 41
        }
      ]
    },
    {
      "cell_type": "code",
      "metadata": {
        "id": "m9t7NWJL-S-b"
      },
      "source": [
        "def maxval( x1, x2 ):\n",
        "  if x1 > x2:\n",
        "    return x1\n",
        "  else:\n",
        "    return x2"
      ],
      "execution_count": null,
      "outputs": []
    },
    {
      "cell_type": "code",
      "metadata": {
        "colab": {
          "base_uri": "https://localhost:8080/"
        },
        "id": "yU3e20wT-2YO",
        "outputId": "44e84370-4100-4d96-a0ad-c4e07f597fc8"
      },
      "source": [
        "maxval(5,4)"
      ],
      "execution_count": null,
      "outputs": [
        {
          "output_type": "execute_result",
          "data": {
            "text/plain": [
              "5"
            ]
          },
          "metadata": {
            "tags": []
          },
          "execution_count": 45
        }
      ]
    },
    {
      "cell_type": "markdown",
      "metadata": {
        "id": "AqI7h96FQeDF"
      },
      "source": [
        "import numpy\n",
        "import numpy as np\n",
        "การเรียกใช้ library"
      ]
    },
    {
      "cell_type": "code",
      "metadata": {
        "colab": {
          "base_uri": "https://localhost:8080/"
        },
        "id": "04dceZ1T-4b1",
        "outputId": "87425e40-d735-4ef8-acb9-7c046172c63f"
      },
      "source": [
        "import numpy as np\n",
        "\n",
        "x = 0\n",
        "\n",
        "print(np.sin(x))\n",
        "print(np.cos(x))\n",
        "print(np.pi)\n",
        "print(np.e)"
      ],
      "execution_count": null,
      "outputs": [
        {
          "output_type": "stream",
          "text": [
            "0.0\n",
            "1.0\n",
            "3.141592653589793\n",
            "2.718281828459045\n"
          ],
          "name": "stdout"
        }
      ]
    },
    {
      "cell_type": "markdown",
      "metadata": {
        "id": "BFOZhmy_QoE0"
      },
      "source": [
        "Array 0 และ 1"
      ]
    },
    {
      "cell_type": "code",
      "metadata": {
        "colab": {
          "base_uri": "https://localhost:8080/"
        },
        "id": "bbulM2-2QukU",
        "outputId": "0bb0ee91-442d-4425-81e7-72e989f546d2"
      },
      "source": [
        "x1 = np.zeros( 20 )\n",
        "x2 = np.ones( (3,4) )\n",
        "\n",
        "print(x1)\n",
        "print(x2)"
      ],
      "execution_count": null,
      "outputs": [
        {
          "output_type": "stream",
          "text": [
            "[0. 0. 0. 0. 0. 0. 0. 0. 0. 0. 0. 0. 0. 0. 0. 0. 0. 0. 0. 0.]\n",
            "[[1. 1. 1. 1.]\n",
            " [1. 1. 1. 1.]\n",
            " [1. 1. 1. 1.]]\n"
          ],
          "name": "stdout"
        }
      ]
    },
    {
      "cell_type": "markdown",
      "metadata": {
        "id": "lQHu3r27QvED"
      },
      "source": [
        "การดำเนินการ Array"
      ]
    },
    {
      "cell_type": "code",
      "metadata": {
        "colab": {
          "base_uri": "https://localhost:8080/"
        },
        "id": "-5ZxTAxYQ0JR",
        "outputId": "11c9836d-821c-4f01-b354-8587082901b9"
      },
      "source": [
        "x = np.array([3,4,5]) \n",
        "y = np.array([2,4,1])\n",
        "\n",
        "print(x)\n",
        "print(y)\n",
        "print(x + y)\n",
        "print(x - y)\n",
        "print(x * y)\n",
        "print(x / y)"
      ],
      "execution_count": null,
      "outputs": [
        {
          "output_type": "stream",
          "text": [
            "[3 4 5]\n",
            "[2 4 1]\n",
            "[5 8 6]\n",
            "[1 0 4]\n",
            "[ 6 16  5]\n",
            "[1.5 1.  5. ]\n"
          ],
          "name": "stdout"
        }
      ]
    },
    {
      "cell_type": "markdown",
      "metadata": {
        "id": "tSh1V2keQ0xX"
      },
      "source": [
        "np.arange หรือการสร้าง range จาก array"
      ]
    },
    {
      "cell_type": "code",
      "metadata": {
        "colab": {
          "base_uri": "https://localhost:8080/"
        },
        "id": "3ojRGjKjQ66P",
        "outputId": "96b8f255-d9bc-49cd-b1d6-5ac28abffc8b"
      },
      "source": [
        "x = np.arange( 0, 5, 0.1 )\n",
        "print(x)\n",
        "print(3*x)"
      ],
      "execution_count": null,
      "outputs": [
        {
          "output_type": "stream",
          "text": [
            "[0.  0.1 0.2 0.3 0.4 0.5 0.6 0.7 0.8 0.9 1.  1.1 1.2 1.3 1.4 1.5 1.6 1.7\n",
            " 1.8 1.9 2.  2.1 2.2 2.3 2.4 2.5 2.6 2.7 2.8 2.9 3.  3.1 3.2 3.3 3.4 3.5\n",
            " 3.6 3.7 3.8 3.9 4.  4.1 4.2 4.3 4.4 4.5 4.6 4.7 4.8 4.9]\n",
            "[ 0.   0.3  0.6  0.9  1.2  1.5  1.8  2.1  2.4  2.7  3.   3.3  3.6  3.9\n",
            "  4.2  4.5  4.8  5.1  5.4  5.7  6.   6.3  6.6  6.9  7.2  7.5  7.8  8.1\n",
            "  8.4  8.7  9.   9.3  9.6  9.9 10.2 10.5 10.8 11.1 11.4 11.7 12.  12.3\n",
            " 12.6 12.9 13.2 13.5 13.8 14.1 14.4 14.7]\n"
          ],
          "name": "stdout"
        }
      ]
    },
    {
      "cell_type": "code",
      "metadata": {
        "colab": {
          "base_uri": "https://localhost:8080/"
        },
        "id": "cvXnYI8rVC3q",
        "outputId": "10490c14-1513-4cb1-83b6-7e7219a0fa09"
      },
      "source": [
        "x = np.arange( 0, 2*np.pi, np.pi/6 )\n",
        "\n",
        "print( x )\n",
        "print( np.sin(x) )"
      ],
      "execution_count": null,
      "outputs": [
        {
          "output_type": "stream",
          "text": [
            "[0.         0.52359878 1.04719755 1.57079633 2.0943951  2.61799388\n",
            " 3.14159265 3.66519143 4.1887902  4.71238898 5.23598776 5.75958653]\n",
            "[ 0.00000000e+00  5.00000000e-01  8.66025404e-01  1.00000000e+00\n",
            "  8.66025404e-01  5.00000000e-01  1.22464680e-16 -5.00000000e-01\n",
            " -8.66025404e-01 -1.00000000e+00 -8.66025404e-01 -5.00000000e-01]\n"
          ],
          "name": "stdout"
        }
      ]
    },
    {
      "cell_type": "markdown",
      "metadata": {
        "id": "-rvAGfo8XrVC"
      },
      "source": [
        "matplotlib"
      ]
    },
    {
      "cell_type": "code",
      "metadata": {
        "colab": {
          "base_uri": "https://localhost:8080/",
          "height": 279
        },
        "id": "1PSmN12MValR",
        "outputId": "796e46fb-997e-495d-9d35-f77731a839fe"
      },
      "source": [
        "import matplotlib.pyplot as plt\n",
        "\n",
        "x = np.arange( 0, 10, 0.1 )\n",
        "y = np.sin(x)\n",
        "\n",
        "plt.xlabel( 'x' )\n",
        "plt.ylabel( 'sin x' )\n",
        "plt.scatter( x, y )\n",
        "plt.show()\n"
      ],
      "execution_count": null,
      "outputs": [
        {
          "output_type": "display_data",
          "data": {
            "image/png": "[encoded data removed]",
            "text/plain": [
              "<Figure size 432x288 with 1 Axes>"
            ]
          },
          "metadata": {
            "tags": [],
            "needs_background": "light"
          }
        }
      ]
    },
    {
      "cell_type": "markdown",
      "metadata": {
        "id": "oI4FPvlCiZw7"
      },
      "source": [
        "ตัวอย่าง คลื่นบีตส์\n",
        "\n",
        "$y_1 = \\sin 5x$\n",
        "\n",
        "$y_2 = \\sin 6x$\n",
        "\n",
        "$y = y_1 + y_2$\n",
        "\n",
        "$y_{beat} = 2\\cos \\frac{(6-5)x}{2}$\n",
        "\n"
      ]
    },
    {
      "cell_type": "code",
      "metadata": {
        "colab": {
          "base_uri": "https://localhost:8080/",
          "height": 573
        },
        "id": "6VwL-KoRicaB",
        "outputId": "2a3fbc6d-7eb3-42ef-f368-a488440ba973"
      },
      "source": [
        "import numpy as np\n",
        "import matplotlib.pyplot as plt\n",
        "from matplotlib import rcParams\n",
        "\n",
        "rcParams.update({'font.size': 16})\n",
        "\n",
        "x = np.arange(0, 10, 0.05)\n",
        "y1 = np.sin(5*x)\n",
        "y2 = np.sin(6*x)\n",
        "y = y1 + y2\n",
        "ybeat = 2*np.cos( 0.5*(6-5)*x )\n",
        "\n",
        "plt.xlabel( 'time (ms)' )\n",
        "plt.ylabel( 'signal' )\n",
        "plt.ylim( -2, 4 )\n",
        "plt.plot( x, y1, 'gs',label='1st wave' )\n",
        "plt.legend()\n",
        "#plt.show()\n",
        "\n",
        "plt.xlabel( 'time (ms)' )\n",
        "plt.ylabel( 'signal' )\n",
        "plt.ylim( -2, 4 )\n",
        "plt.plot( x, y2, 'ro',label='2nd wave' )\n",
        "plt.legend()\n",
        "plt.show()\n",
        "\n",
        "plt.xlabel( 'time (ms)' )\n",
        "plt.ylabel( 'signal' )\n",
        "plt.ylim( -2, 4 )\n",
        "plt.plot( x, y, 'k-',linewidth=5,label='1st+2nd wave' )\n",
        "plt.plot( x, ybeat, 'b--',linewidth=2,label='beats' )\n",
        "plt.legend()\n",
        "plt.show()\n"
      ],
      "execution_count": null,
      "outputs": [
        {
          "output_type": "display_data",
          "data": {
            "image/png": "[encoded data removed]",
            "text/plain": [
              "<Figure size 432x288 with 1 Axes>"
            ]
          },
          "metadata": {
            "tags": [],
            "needs_background": "light"
          }
        },
        {
          "output_type": "display_data",
          "data": {
            "image/png": "[encoded data removed]",
            "text/plain": [
              "<Figure size 432x288 with 1 Axes>"
            ]
          },
          "metadata": {
            "tags": [],
            "needs_background": "light"
          }
        }
      ]
    },
    {
      "cell_type": "markdown",
      "metadata": {
        "id": "lLQzZPJA0ykU"
      },
      "source": [
        "2D Array - Subarray"
      ]
    },
    {
      "cell_type": "code",
      "metadata": {
        "colab": {
          "base_uri": "https://localhost:8080/"
        },
        "id": "fLp3kBLt0088",
        "outputId": "a9cd4a4a-a72f-41cf-e2b0-22a1599a0f87"
      },
      "source": [
        "A = np.array( [ [1,2,3,4], [3,4,5,6], [5,6,7,8] ] )\n",
        "\n",
        "print( A )"
      ],
      "execution_count": null,
      "outputs": [
        {
          "output_type": "stream",
          "text": [
            "[[1 2 3 4]\n",
            " [3 4 5 6]\n",
            " [5 6 7 8]]\n"
          ],
          "name": "stdout"
        }
      ]
    },
    {
      "cell_type": "markdown",
      "metadata": {
        "id": "dJLPcYYj3hF5"
      },
      "source": [
        "(very) basic PANDAS"
      ]
    },
    {
      "cell_type": "code",
      "metadata": {
        "id": "x54DfsQW3gpv"
      },
      "source": [
        "import pandas as pd\n",
        "\n",
        "df = pd.read_csv( \"exam.csv\" )"
      ],
      "execution_count": null,
      "outputs": []
    },
    {
      "cell_type": "code",
      "metadata": {
        "colab": {
          "base_uri": "https://localhost:8080/",
          "height": 166
        },
        "id": "SeWAIyyn7wDs",
        "outputId": "86eee779-9e8d-4dcc-d82c-74e0e9bc62f4"
      },
      "source": [
        "df"
      ],
      "execution_count": null,
      "outputs": [
        {
          "output_type": "execute_result",
          "data": {
            "text/html": [
              "<div>\n",
              "<style scoped>\n",
              "    .dataframe tbody tr th:only-of-type {\n",
              "        vertical-align: middle;\n",
              "    }\n",
              "\n",
              "    .dataframe tbody tr th {\n",
              "        vertical-align: top;\n",
              "    }\n",
              "\n",
              "    .dataframe thead th {\n",
              "        text-align: right;\n",
              "    }\n",
              "</style>\n",
              "<table border=\"1\" class=\"dataframe\">\n",
              "  <thead>\n",
              "    <tr style=\"text-align: right;\">\n",
              "      <th></th>\n",
              "      <th>Name</th>\n",
              "      <th>Quiz 1</th>\n",
              "      <th>Quiz 2</th>\n",
              "      <th>Midterm</th>\n",
              "      <th>Quiz 3</th>\n",
              "      <th>Final</th>\n",
              "      <th>Participation</th>\n",
              "    </tr>\n",
              "  </thead>\n",
              "  <tbody>\n",
              "    <tr>\n",
              "      <th>0</th>\n",
              "      <td>Student A</td>\n",
              "      <td>4.0</td>\n",
              "      <td>4.0</td>\n",
              "      <td>18</td>\n",
              "      <td>3.0</td>\n",
              "      <td>19</td>\n",
              "      <td>5</td>\n",
              "    </tr>\n",
              "    <tr>\n",
              "      <th>1</th>\n",
              "      <td>Student B</td>\n",
              "      <td>3.5</td>\n",
              "      <td>3.0</td>\n",
              "      <td>15</td>\n",
              "      <td>3.5</td>\n",
              "      <td>16</td>\n",
              "      <td>5</td>\n",
              "    </tr>\n",
              "    <tr>\n",
              "      <th>2</th>\n",
              "      <td>Student C</td>\n",
              "      <td>5.0</td>\n",
              "      <td>5.0</td>\n",
              "      <td>19</td>\n",
              "      <td>4.0</td>\n",
              "      <td>17</td>\n",
              "      <td>5</td>\n",
              "    </tr>\n",
              "    <tr>\n",
              "      <th>3</th>\n",
              "      <td>Student D</td>\n",
              "      <td>2.5</td>\n",
              "      <td>2.5</td>\n",
              "      <td>12</td>\n",
              "      <td>3.0</td>\n",
              "      <td>10</td>\n",
              "      <td>3</td>\n",
              "    </tr>\n",
              "  </tbody>\n",
              "</table>\n",
              "</div>"
            ],
            "text/plain": [
              "        Name  Quiz 1  Quiz 2  Midterm  Quiz 3  Final  Participation\n",
              "0  Student A     4.0     4.0       18     3.0     19              5\n",
              "1  Student B     3.5     3.0       15     3.5     16              5\n",
              "2  Student C     5.0     5.0       19     4.0     17              5\n",
              "3  Student D     2.5     2.5       12     3.0     10              3"
            ]
          },
          "metadata": {
            "tags": []
          },
          "execution_count": 121
        }
      ]
    },
    {
      "cell_type": "code",
      "metadata": {
        "colab": {
          "base_uri": "https://localhost:8080/",
          "height": 166
        },
        "id": "y5Gmdh0N-a4O",
        "outputId": "b3a3480c-f235-4dda-9a78-349ea4929e05"
      },
      "source": [
        "df[\"Sum\"] = df.sum(axis=1)\n",
        "df"
      ],
      "execution_count": null,
      "outputs": [
        {
          "output_type": "execute_result",
          "data": {
            "text/html": [
              "<div>\n",
              "<style scoped>\n",
              "    .dataframe tbody tr th:only-of-type {\n",
              "        vertical-align: middle;\n",
              "    }\n",
              "\n",
              "    .dataframe tbody tr th {\n",
              "        vertical-align: top;\n",
              "    }\n",
              "\n",
              "    .dataframe thead th {\n",
              "        text-align: right;\n",
              "    }\n",
              "</style>\n",
              "<table border=\"1\" class=\"dataframe\">\n",
              "  <thead>\n",
              "    <tr style=\"text-align: right;\">\n",
              "      <th></th>\n",
              "      <th>Name</th>\n",
              "      <th>Quiz 1</th>\n",
              "      <th>Quiz 2</th>\n",
              "      <th>Midterm</th>\n",
              "      <th>Quiz 3</th>\n",
              "      <th>Final</th>\n",
              "      <th>Participation</th>\n",
              "      <th>Sum</th>\n",
              "    </tr>\n",
              "  </thead>\n",
              "  <tbody>\n",
              "    <tr>\n",
              "      <th>0</th>\n",
              "      <td>Student A</td>\n",
              "      <td>4.0</td>\n",
              "      <td>4.0</td>\n",
              "      <td>18</td>\n",
              "      <td>3.0</td>\n",
              "      <td>19</td>\n",
              "      <td>5</td>\n",
              "      <td>53.0</td>\n",
              "    </tr>\n",
              "    <tr>\n",
              "      <th>1</th>\n",
              "      <td>Student B</td>\n",
              "      <td>3.5</td>\n",
              "      <td>3.0</td>\n",
              "      <td>15</td>\n",
              "      <td>3.5</td>\n",
              "      <td>16</td>\n",
              "      <td>5</td>\n",
              "      <td>46.0</td>\n",
              "    </tr>\n",
              "    <tr>\n",
              "      <th>2</th>\n",
              "      <td>Student C</td>\n",
              "      <td>5.0</td>\n",
              "      <td>5.0</td>\n",
              "      <td>19</td>\n",
              "      <td>4.0</td>\n",
              "      <td>17</td>\n",
              "      <td>5</td>\n",
              "      <td>55.0</td>\n",
              "    </tr>\n",
              "    <tr>\n",
              "      <th>3</th>\n",
              "      <td>Student D</td>\n",
              "      <td>2.5</td>\n",
              "      <td>2.5</td>\n",
              "      <td>12</td>\n",
              "      <td>3.0</td>\n",
              "      <td>10</td>\n",
              "      <td>3</td>\n",
              "      <td>33.0</td>\n",
              "    </tr>\n",
              "  </tbody>\n",
              "</table>\n",
              "</div>"
            ],
            "text/plain": [
              "        Name  Quiz 1  Quiz 2  Midterm  Quiz 3  Final  Participation   Sum\n",
              "0  Student A     4.0     4.0       18     3.0     19              5  53.0\n",
              "1  Student B     3.5     3.0       15     3.5     16              5  46.0\n",
              "2  Student C     5.0     5.0       19     4.0     17              5  55.0\n",
              "3  Student D     2.5     2.5       12     3.0     10              3  33.0"
            ]
          },
          "metadata": {
            "tags": []
          },
          "execution_count": 122
        }
      ]
    },
    {
      "cell_type": "code",
      "metadata": {
        "id": "oRloYFUE-mNR"
      },
      "source": [
        "df.to_csv( \"out.csv\" )"
      ],
      "execution_count": null,
      "outputs": []
    }
  ]
}